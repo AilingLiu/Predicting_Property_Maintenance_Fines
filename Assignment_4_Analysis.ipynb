{
 "cells": [
  {
   "cell_type": "markdown",
   "metadata": {},
   "source": [
    "---\n",
    "\n",
    "_You are currently looking at **version 1.1** of this notebook. To download notebooks and datafiles, as well as get help on Jupyter notebooks in the Coursera platform, visit the [Jupyter Notebook FAQ](https://www.coursera.org/learn/python-machine-learning/resources/bANLa) course resource._\n",
    "\n",
    "---"
   ]
  },
  {
   "cell_type": "markdown",
   "metadata": {},
   "source": [
    "## Assignment 4 - Understanding and Predicting Property Maintenance Fines\n",
    "\n",
    "This assignment is based on a data challenge from the Michigan Data Science Team ([MDST](http://midas.umich.edu/mdst/)). \n",
    "\n",
    "The Michigan Data Science Team ([MDST](http://midas.umich.edu/mdst/)) and the Michigan Student Symposium for Interdisciplinary Statistical Sciences ([MSSISS](https://sites.lsa.umich.edu/mssiss/)) have partnered with the City of Detroit to help solve one of the most pressing problems facing Detroit - blight. [Blight violations](http://www.detroitmi.gov/How-Do-I/Report/Blight-Complaint-FAQs) are issued by the city to individuals who allow their properties to remain in a deteriorated condition. Every year, the city of Detroit issues millions of dollars in fines to residents and every year, many of these fines remain unpaid. Enforcing unpaid blight fines is a costly and tedious process, so the city wants to know: how can we increase blight ticket compliance?\n",
    "\n",
    "The first step in answering this question is understanding when and why a resident might fail to comply with a blight ticket. This is where predictive modeling comes in. For this assignment, your task is to predict whether a given blight ticket will be paid on time.\n",
    "\n",
    "All data for this assignment has been provided to us through the [Detroit Open Data Portal](https://data.detroitmi.gov/). **Only the data already included in your Coursera directory can be used for training the model for this assignment.** Nonetheless, we encourage you to look into data from other Detroit datasets to help inform feature creation and model selection. We recommend taking a look at the following related datasets:\n",
    "\n",
    "* [Building Permits](https://data.detroitmi.gov/Property-Parcels/Building-Permits/xw2a-a7tf)\n",
    "* [Trades Permits](https://data.detroitmi.gov/Property-Parcels/Trades-Permits/635b-dsgv)\n",
    "* [Improve Detroit: Submitted Issues](https://data.detroitmi.gov/Government/Improve-Detroit-Submitted-Issues/fwz3-w3yn)\n",
    "* [DPD: Citizen Complaints](https://data.detroitmi.gov/Public-Safety/DPD-Citizen-Complaints-2016/kahe-efs3)\n",
    "* [Parcel Map](https://data.detroitmi.gov/Property-Parcels/Parcel-Map/fxkw-udwf)\n",
    "\n",
    "___\n",
    "\n",
    "We provide you with two data files for use in training and validating your models: train.csv and test.csv. Each row in these two files corresponds to a single blight ticket, and includes information about when, why, and to whom each ticket was issued. The target variable is compliance, which is True if the ticket was paid early, on time, or within one month of the hearing data, False if the ticket was paid after the hearing date or not at all, and Null if the violator was found not responsible. Compliance, as well as a handful of other variables that will not be available at test-time, are only included in train.csv.\n",
    "\n",
    "Note: All tickets where the violators were found not responsible are not considered during evaluation. They are included in the training set as an additional source of data for visualization, and to enable unsupervised and semi-supervised approaches. However, they are not included in the test set.\n",
    "\n",
    "<br>\n",
    "\n",
    "**File descriptions** (Use only this data for training your model!)\n",
    "\n",
    "    readonly/train.csv - the training set (all tickets issued 2004-2011)\n",
    "    readonly/test.csv - the test set (all tickets issued 2012-2016)\n",
    "    readonly/addresses.csv & readonly/latlons.csv - mapping from ticket id to addresses, and from addresses to lat/lon coordinates. \n",
    "     Note: misspelled addresses may be incorrectly geolocated.\n",
    "\n",
    "<br>\n",
    "\n",
    "**Data fields**\n",
    "\n",
    "train.csv & test.csv\n",
    "\n",
    "    ticket_id - unique identifier for tickets\n",
    "    agency_name - Agency that issued the ticket\n",
    "    inspector_name - Name of inspector that issued the ticket\n",
    "    violator_name - Name of the person/organization that the ticket was issued to\n",
    "    violation_street_number, violation_street_name, violation_zip_code - Address where the violation occurred\n",
    "    mailing_address_str_number, mailing_address_str_name, city, state, zip_code, non_us_str_code, country - Mailing address of the violator\n",
    "    ticket_issued_date - Date and time the ticket was issued\n",
    "    hearing_date - Date and time the violator's hearing was scheduled\n",
    "    violation_code, violation_description - Type of violation\n",
    "    disposition - Judgment and judgement type\n",
    "    fine_amount - Violation fine amount, excluding fees\n",
    "    admin_fee - $20 fee assigned to responsible judgments\n",
    "state_fee - $10 fee assigned to responsible judgments\n",
    "    late_fee - 10% fee assigned to responsible judgments\n",
    "    discount_amount - discount applied, if any\n",
    "    clean_up_cost - DPW clean-up or graffiti removal cost\n",
    "    judgment_amount - Sum of all fines and fees\n",
    "    grafitti_status - Flag for graffiti violations\n",
    "    \n",
    "train.csv only\n",
    "\n",
    "    payment_amount - Amount paid, if any\n",
    "    payment_date - Date payment was made, if it was received\n",
    "    payment_status - Current payment status as of Feb 1 2017\n",
    "    balance_due - Fines and fees still owed\n",
    "    collection_status - Flag for payments in collections\n",
    "    compliance [target variable for prediction] \n",
    "     Null = Not responsible\n",
    "     0 = Responsible, non-compliant\n",
    "     1 = Responsible, compliant\n",
    "    compliance_detail - More information on why each ticket was marked compliant or non-compliant\n",
    "\n",
    "\n",
    "___\n",
    "\n",
    "## Evaluation\n",
    "\n",
    "Your predictions will be given as the probability that the corresponding blight ticket will be paid on time.\n",
    "\n",
    "The evaluation metric for this assignment is the Area Under the ROC Curve (AUC). \n",
    "\n",
    "Your grade will be based on the AUC score computed for your classifier. A model which with an AUROC of 0.7 passes this assignment, over 0.75 will recieve full points.\n",
    "___\n",
    "\n",
    "For this assignment, create a function that trains a model to predict blight ticket compliance in Detroit using `readonly/train.csv`. Using this model, return a series of length 61001 with the data being the probability that each corresponding ticket from `readonly/test.csv` will be paid, and the index being the ticket_id.\n",
    "\n",
    "Example:\n",
    "\n",
    "    ticket_id\n",
    "       284932    0.531842\n",
    "       285362    0.401958\n",
    "       285361    0.105928\n",
    "       285338    0.018572\n",
    "                 ...\n",
    "       376499    0.208567\n",
    "       376500    0.818759\n",
    "       369851    0.018528\n",
    "       Name: compliance, dtype: float32\n",
    "       \n",
    "### Hints\n",
    "\n",
    "* Make sure your code is working before submitting it to the autograder.\n",
    "\n",
    "* Print out your result to see whether there is anything weird (e.g., all probabilities are the same).\n",
    "\n",
    "* Generally the total runtime should be less than 10 mins. You should NOT use Neural Network related classifiers (e.g., MLPClassifier) in this question. \n",
    "\n",
    "* Try to avoid global variables. If you have other functions besides blight_model, you should move those functions inside the scope of blight_model.\n",
    "\n",
    "* Refer to the pinned threads in Week 4's discussion forum when there is something you could not figure it out."
   ]
  },
  {
   "cell_type": "code",
   "execution_count": null,
   "metadata": {
    "collapsed": true
   },
   "outputs": [],
   "source": []
  },
  {
   "cell_type": "code",
   "execution_count": 1,
   "metadata": {
    "collapsed": false
   },
   "outputs": [
    {
     "name": "stderr",
     "output_type": "stream",
     "text": [
      "/opt/conda/lib/python3.6/site-packages/IPython/core/interactiveshell.py:2717: DtypeWarning: Columns (11,12,31) have mixed types. Specify dtype option on import or set low_memory=False.\n",
      "  interactivity=interactivity, compiler=compiler, result=result)\n"
     ]
    }
   ],
   "source": [
    "import pandas as pd\n",
    "import numpy as np\n",
    "pd.set_option('display.max_columns', 999)\n",
    "\n",
    "# Your code here\n",
    "trainset = pd.read_csv('readonly/train.csv', encoding = 'ISO-8859-1')\n",
    "testset = pd.read_csv('readonly/test.csv', encoding = 'ISO-8859-1')\n",
    "address = pd.read_csv('readonly/addresses.csv')\n",
    "latlot = pd.read_csv('readonly/latlons.csv')"
   ]
  },
  {
   "cell_type": "code",
   "execution_count": 7,
   "metadata": {
    "collapsed": false
   },
   "outputs": [
    {
     "data": {
      "text/html": [
       "<div>\n",
       "<table border=\"1\" class=\"dataframe\">\n",
       "  <thead>\n",
       "    <tr style=\"text-align: right;\">\n",
       "      <th></th>\n",
       "      <th>ticket_id</th>\n",
       "      <th>agency_name</th>\n",
       "      <th>inspector_name</th>\n",
       "      <th>violator_name</th>\n",
       "      <th>violation_street_number</th>\n",
       "      <th>violation_street_name</th>\n",
       "      <th>violation_zip_code</th>\n",
       "      <th>mailing_address_str_number</th>\n",
       "      <th>mailing_address_str_name</th>\n",
       "      <th>city</th>\n",
       "      <th>state</th>\n",
       "      <th>zip_code</th>\n",
       "      <th>non_us_str_code</th>\n",
       "      <th>country</th>\n",
       "      <th>ticket_issued_date</th>\n",
       "      <th>hearing_date</th>\n",
       "      <th>violation_code</th>\n",
       "      <th>violation_description</th>\n",
       "      <th>disposition</th>\n",
       "      <th>fine_amount</th>\n",
       "      <th>admin_fee</th>\n",
       "      <th>state_fee</th>\n",
       "      <th>late_fee</th>\n",
       "      <th>discount_amount</th>\n",
       "      <th>clean_up_cost</th>\n",
       "      <th>judgment_amount</th>\n",
       "      <th>payment_amount</th>\n",
       "      <th>balance_due</th>\n",
       "      <th>payment_date</th>\n",
       "      <th>payment_status</th>\n",
       "      <th>collection_status</th>\n",
       "      <th>grafitti_status</th>\n",
       "      <th>compliance_detail</th>\n",
       "      <th>compliance</th>\n",
       "    </tr>\n",
       "  </thead>\n",
       "  <tbody>\n",
       "    <tr>\n",
       "      <th>0</th>\n",
       "      <td>22056</td>\n",
       "      <td>Buildings, Safety Engineering &amp; Env Department</td>\n",
       "      <td>Sims, Martinzie</td>\n",
       "      <td>INVESTMENT INC., MIDWEST MORTGAGE</td>\n",
       "      <td>2900.0</td>\n",
       "      <td>TYLER</td>\n",
       "      <td>NaN</td>\n",
       "      <td>3.0</td>\n",
       "      <td>S. WICKER</td>\n",
       "      <td>CHICAGO</td>\n",
       "      <td>IL</td>\n",
       "      <td>60606</td>\n",
       "      <td>NaN</td>\n",
       "      <td>USA</td>\n",
       "      <td>2004-03-16 11:40:00</td>\n",
       "      <td>2005-03-21 10:30:00</td>\n",
       "      <td>9-1-36(a)</td>\n",
       "      <td>Failure of owner to obtain certificate of comp...</td>\n",
       "      <td>Responsible by Default</td>\n",
       "      <td>250.0</td>\n",
       "      <td>20.0</td>\n",
       "      <td>10.0</td>\n",
       "      <td>25.0</td>\n",
       "      <td>0.0</td>\n",
       "      <td>0.0</td>\n",
       "      <td>305.0</td>\n",
       "      <td>0.0</td>\n",
       "      <td>305.0</td>\n",
       "      <td>NaN</td>\n",
       "      <td>NO PAYMENT APPLIED</td>\n",
       "      <td>NaN</td>\n",
       "      <td>NaN</td>\n",
       "      <td>non-compliant by no payment</td>\n",
       "      <td>0.0</td>\n",
       "    </tr>\n",
       "    <tr>\n",
       "      <th>1</th>\n",
       "      <td>27586</td>\n",
       "      <td>Buildings, Safety Engineering &amp; Env Department</td>\n",
       "      <td>Williams, Darrin</td>\n",
       "      <td>Michigan, Covenant House</td>\n",
       "      <td>4311.0</td>\n",
       "      <td>CENTRAL</td>\n",
       "      <td>NaN</td>\n",
       "      <td>2959.0</td>\n",
       "      <td>Martin Luther King</td>\n",
       "      <td>Detroit</td>\n",
       "      <td>MI</td>\n",
       "      <td>48208</td>\n",
       "      <td>NaN</td>\n",
       "      <td>USA</td>\n",
       "      <td>2004-04-23 12:30:00</td>\n",
       "      <td>2005-05-06 13:30:00</td>\n",
       "      <td>61-63.0600</td>\n",
       "      <td>Failed To Secure Permit For Lawful Use Of Buil...</td>\n",
       "      <td>Responsible by Determination</td>\n",
       "      <td>750.0</td>\n",
       "      <td>20.0</td>\n",
       "      <td>10.0</td>\n",
       "      <td>75.0</td>\n",
       "      <td>0.0</td>\n",
       "      <td>0.0</td>\n",
       "      <td>855.0</td>\n",
       "      <td>780.0</td>\n",
       "      <td>75.0</td>\n",
       "      <td>2005-06-02 00:00:00</td>\n",
       "      <td>PAID IN FULL</td>\n",
       "      <td>NaN</td>\n",
       "      <td>NaN</td>\n",
       "      <td>compliant by late payment within 1 month</td>\n",
       "      <td>1.0</td>\n",
       "    </tr>\n",
       "    <tr>\n",
       "      <th>2</th>\n",
       "      <td>22062</td>\n",
       "      <td>Buildings, Safety Engineering &amp; Env Department</td>\n",
       "      <td>Sims, Martinzie</td>\n",
       "      <td>SANDERS, DERRON</td>\n",
       "      <td>1449.0</td>\n",
       "      <td>LONGFELLOW</td>\n",
       "      <td>NaN</td>\n",
       "      <td>23658.0</td>\n",
       "      <td>P.O. BOX</td>\n",
       "      <td>DETROIT</td>\n",
       "      <td>MI</td>\n",
       "      <td>48223</td>\n",
       "      <td>NaN</td>\n",
       "      <td>USA</td>\n",
       "      <td>2004-04-26 13:40:00</td>\n",
       "      <td>2005-03-29 10:30:00</td>\n",
       "      <td>9-1-36(a)</td>\n",
       "      <td>Failure of owner to obtain certificate of comp...</td>\n",
       "      <td>Not responsible by Dismissal</td>\n",
       "      <td>250.0</td>\n",
       "      <td>0.0</td>\n",
       "      <td>0.0</td>\n",
       "      <td>0.0</td>\n",
       "      <td>0.0</td>\n",
       "      <td>0.0</td>\n",
       "      <td>0.0</td>\n",
       "      <td>0.0</td>\n",
       "      <td>0.0</td>\n",
       "      <td>NaN</td>\n",
       "      <td>NO PAYMENT APPLIED</td>\n",
       "      <td>NaN</td>\n",
       "      <td>NaN</td>\n",
       "      <td>not responsible by disposition</td>\n",
       "      <td>NaN</td>\n",
       "    </tr>\n",
       "  </tbody>\n",
       "</table>\n",
       "</div>"
      ],
      "text/plain": [
       "   ticket_id                                     agency_name  \\\n",
       "0      22056  Buildings, Safety Engineering & Env Department   \n",
       "1      27586  Buildings, Safety Engineering & Env Department   \n",
       "2      22062  Buildings, Safety Engineering & Env Department   \n",
       "\n",
       "     inspector_name                      violator_name  \\\n",
       "0   Sims, Martinzie  INVESTMENT INC., MIDWEST MORTGAGE   \n",
       "1  Williams, Darrin           Michigan, Covenant House   \n",
       "2   Sims, Martinzie                    SANDERS, DERRON   \n",
       "\n",
       "   violation_street_number violation_street_name  violation_zip_code  \\\n",
       "0                   2900.0                 TYLER                 NaN   \n",
       "1                   4311.0               CENTRAL                 NaN   \n",
       "2                   1449.0            LONGFELLOW                 NaN   \n",
       "\n",
       "   mailing_address_str_number mailing_address_str_name     city state  \\\n",
       "0                         3.0                S. WICKER  CHICAGO    IL   \n",
       "1                      2959.0       Martin Luther King  Detroit    MI   \n",
       "2                     23658.0                 P.O. BOX  DETROIT    MI   \n",
       "\n",
       "  zip_code non_us_str_code country   ticket_issued_date         hearing_date  \\\n",
       "0    60606             NaN     USA  2004-03-16 11:40:00  2005-03-21 10:30:00   \n",
       "1    48208             NaN     USA  2004-04-23 12:30:00  2005-05-06 13:30:00   \n",
       "2    48223             NaN     USA  2004-04-26 13:40:00  2005-03-29 10:30:00   \n",
       "\n",
       "  violation_code                              violation_description  \\\n",
       "0      9-1-36(a)  Failure of owner to obtain certificate of comp...   \n",
       "1     61-63.0600  Failed To Secure Permit For Lawful Use Of Buil...   \n",
       "2      9-1-36(a)  Failure of owner to obtain certificate of comp...   \n",
       "\n",
       "                    disposition  fine_amount  admin_fee  state_fee  late_fee  \\\n",
       "0        Responsible by Default        250.0       20.0       10.0      25.0   \n",
       "1  Responsible by Determination        750.0       20.0       10.0      75.0   \n",
       "2  Not responsible by Dismissal        250.0        0.0        0.0       0.0   \n",
       "\n",
       "   discount_amount  clean_up_cost  judgment_amount  payment_amount  \\\n",
       "0              0.0            0.0            305.0             0.0   \n",
       "1              0.0            0.0            855.0           780.0   \n",
       "2              0.0            0.0              0.0             0.0   \n",
       "\n",
       "   balance_due         payment_date      payment_status collection_status  \\\n",
       "0        305.0                  NaN  NO PAYMENT APPLIED               NaN   \n",
       "1         75.0  2005-06-02 00:00:00        PAID IN FULL               NaN   \n",
       "2          0.0                  NaN  NO PAYMENT APPLIED               NaN   \n",
       "\n",
       "  grafitti_status                         compliance_detail  compliance  \n",
       "0             NaN               non-compliant by no payment         0.0  \n",
       "1             NaN  compliant by late payment within 1 month         1.0  \n",
       "2             NaN            not responsible by disposition         NaN  "
      ]
     },
     "execution_count": 7,
     "metadata": {},
     "output_type": "execute_result"
    }
   ],
   "source": [
    "trainset.head(3)"
   ]
  },
  {
   "cell_type": "code",
   "execution_count": 10,
   "metadata": {
    "collapsed": false
   },
   "outputs": [
    {
     "name": "stdout",
     "output_type": "stream",
     "text": [
      "number of examples in trainset: 250306\n",
      "\n",
      "number of features in trainset: 34\n",
      "\n",
      "number of examples in testset: 61001\n",
      "\n",
      "number of features in testset: 27\n",
      "\n",
      "Column names of data: Index(['ticket_id', 'agency_name', 'inspector_name', 'violator_name',\n",
      "       'violation_street_number', 'violation_street_name',\n",
      "       'violation_zip_code', 'mailing_address_str_number',\n",
      "       'mailing_address_str_name', 'city', 'state', 'zip_code',\n",
      "       'non_us_str_code', 'country', 'ticket_issued_date', 'hearing_date',\n",
      "       'violation_code', 'violation_description', 'disposition', 'fine_amount',\n",
      "       'admin_fee', 'state_fee', 'late_fee', 'discount_amount',\n",
      "       'clean_up_cost', 'judgment_amount', 'payment_amount', 'balance_due',\n",
      "       'payment_date', 'payment_status', 'collection_status',\n",
      "       'grafitti_status', 'compliance_detail', 'compliance'],\n",
      "      dtype='object')\n"
     ]
    }
   ],
   "source": [
    "print('number of examples in trainset: {}\\n'.format(trainset.shape[0]))\n",
    "print('number of features in trainset: {}\\n'.format(trainset.shape[1]))\n",
    "print('number of examples in testset: {}\\n'.format(testset.shape[0]))\n",
    "print('number of features in testset: {}\\n'.format(testset.shape[1]))\n",
    "print('Column names of data: {}'.format(trainset.columns))"
   ]
  },
  {
   "cell_type": "code",
   "execution_count": 2,
   "metadata": {
    "collapsed": false
   },
   "outputs": [
    {
     "data": {
      "text/plain": [
       " 0.0    0.592407\n",
       "NaN     0.361262\n",
       " 1.0    0.046331\n",
       "Name: compliance, dtype: float64"
      ]
     },
     "execution_count": 2,
     "metadata": {},
     "output_type": "execute_result"
    }
   ],
   "source": [
    "trainset.compliance.value_counts(dropna=False, normalize=True)"
   ]
  },
  {
   "cell_type": "code",
   "execution_count": 9,
   "metadata": {
    "collapsed": false
   },
   "outputs": [
    {
     "data": {
      "text/html": [
       "<div>\n",
       "<table border=\"1\" class=\"dataframe\">\n",
       "  <thead>\n",
       "    <tr style=\"text-align: right;\">\n",
       "      <th></th>\n",
       "      <th>ticket_id</th>\n",
       "      <th>address</th>\n",
       "    </tr>\n",
       "  </thead>\n",
       "  <tbody>\n",
       "    <tr>\n",
       "      <th>0</th>\n",
       "      <td>22056</td>\n",
       "      <td>2900 tyler, Detroit MI</td>\n",
       "    </tr>\n",
       "    <tr>\n",
       "      <th>1</th>\n",
       "      <td>27586</td>\n",
       "      <td>4311 central, Detroit MI</td>\n",
       "    </tr>\n",
       "    <tr>\n",
       "      <th>2</th>\n",
       "      <td>22062</td>\n",
       "      <td>1449 longfellow, Detroit MI</td>\n",
       "    </tr>\n",
       "  </tbody>\n",
       "</table>\n",
       "</div>"
      ],
      "text/plain": [
       "   ticket_id                      address\n",
       "0      22056       2900 tyler, Detroit MI\n",
       "1      27586     4311 central, Detroit MI\n",
       "2      22062  1449 longfellow, Detroit MI"
      ]
     },
     "execution_count": 9,
     "metadata": {},
     "output_type": "execute_result"
    }
   ],
   "source": [
    "address.head(3)"
   ]
  },
  {
   "cell_type": "code",
   "execution_count": 11,
   "metadata": {
    "collapsed": false
   },
   "outputs": [
    {
     "name": "stdout",
     "output_type": "stream",
     "text": [
      "number of examples and features of address: (311307, 2)\n"
     ]
    }
   ],
   "source": [
    "print('number of examples and features of address: {}'.format(address.shape))"
   ]
  },
  {
   "cell_type": "code",
   "execution_count": 14,
   "metadata": {
    "collapsed": false
   },
   "outputs": [
    {
     "name": "stdout",
     "output_type": "stream",
     "text": [
      "number of unique address: 121769\n"
     ]
    }
   ],
   "source": [
    "print('number of unique address: {}'.format(address.address.nunique()))"
   ]
  },
  {
   "cell_type": "code",
   "execution_count": 16,
   "metadata": {
    "collapsed": false
   },
   "outputs": [
    {
     "name": "stdout",
     "output_type": "stream",
     "text": [
      "number of unique id: 311307\n"
     ]
    }
   ],
   "source": [
    "print('number of unique id: {}'.format(address.ticket_id.nunique()))"
   ]
  },
  {
   "cell_type": "code",
   "execution_count": 21,
   "metadata": {
    "collapsed": false
   },
   "outputs": [
    {
     "name": "stdout",
     "output_type": "stream",
     "text": [
      "randomly select 10 samples to display address patterns: \n",
      "\n",
      "sample  0\n",
      "        ticket_id                    address\n",
      "142876     172429     2121 helen, Detroit MI\n",
      "218281     253112  7754 archdale, Detroit MI \n",
      "\n",
      "sample  1\n",
      "        ticket_id                          address\n",
      "307163     370214  19452 pierson, Detroit MI 48219\n",
      "120741     148231         15473 chapel, Detroit MI \n",
      "\n",
      "sample  2\n",
      "        ticket_id                   address\n",
      "139113     168993  12161 minden, Detroit MI\n",
      "26361       45329   8675 elmira, Detroit MI \n",
      "\n",
      "sample  3\n",
      "        ticket_id                         address\n",
      "310462     373965  17300 woodward ave, Detroit MI\n",
      "251293     287288      20006 roselawn, Detroit MI \n",
      "\n",
      "sample  4\n",
      "        ticket_id                   address\n",
      "164042     195403  19367 carrie, Detroit MI\n",
      "99248      124901    2029 beard, Detroit MI \n",
      "\n",
      "sample  5\n",
      "        ticket_id                     address\n",
      "32415       52837    21131 moross, Detroit MI\n",
      "137472     165933  14256 washburn, Detroit MI \n",
      "\n",
      "sample  6\n",
      "        ticket_id                         address\n",
      "287690     340259  8250 hildale, Detroit MI 48234\n",
      "169231     200050      7399 churchill, Detroit MI \n",
      "\n",
      "sample  7\n",
      "       ticket_id                        address\n",
      "82778     107431       638 lawrence, Detroit MI\n",
      "28108      47747  10894 outer drive, Detroit MI \n",
      "\n",
      "sample  8\n",
      "        ticket_id                         address\n",
      "90096      115048  18700 woodward ave, Detroit MI\n",
      "131527     159800        22155 hessel, Detroit MI \n",
      "\n",
      "sample  9\n",
      "        ticket_id                     address\n",
      "264229     308390     8630 bryden, Detroit MI\n",
      "148232     177575  20175 kentucky, Detroit MI \n",
      "\n"
     ]
    }
   ],
   "source": [
    "print('randomly select 10 samples to display address patterns: \\n')\n",
    "\n",
    "for i in range(10):\n",
    "    print('sample ', str(i))\n",
    "    print(address.sample(2), '\\n')"
   ]
  },
  {
   "cell_type": "code",
   "execution_count": 22,
   "metadata": {
    "collapsed": false
   },
   "outputs": [
    {
     "data": {
      "text/html": [
       "<div>\n",
       "<table border=\"1\" class=\"dataframe\">\n",
       "  <thead>\n",
       "    <tr style=\"text-align: right;\">\n",
       "      <th></th>\n",
       "      <th>address</th>\n",
       "      <th>lat</th>\n",
       "      <th>lon</th>\n",
       "    </tr>\n",
       "  </thead>\n",
       "  <tbody>\n",
       "    <tr>\n",
       "      <th>0</th>\n",
       "      <td>4300 rosa parks blvd, Detroit MI 48208</td>\n",
       "      <td>42.346169</td>\n",
       "      <td>-83.079962</td>\n",
       "    </tr>\n",
       "    <tr>\n",
       "      <th>1</th>\n",
       "      <td>14512 sussex, Detroit MI</td>\n",
       "      <td>42.394657</td>\n",
       "      <td>-83.194265</td>\n",
       "    </tr>\n",
       "    <tr>\n",
       "      <th>2</th>\n",
       "      <td>3456 garland, Detroit MI</td>\n",
       "      <td>42.373779</td>\n",
       "      <td>-82.986228</td>\n",
       "    </tr>\n",
       "  </tbody>\n",
       "</table>\n",
       "</div>"
      ],
      "text/plain": [
       "                                  address        lat        lon\n",
       "0  4300 rosa parks blvd, Detroit MI 48208  42.346169 -83.079962\n",
       "1                14512 sussex, Detroit MI  42.394657 -83.194265\n",
       "2                3456 garland, Detroit MI  42.373779 -82.986228"
      ]
     },
     "execution_count": 22,
     "metadata": {},
     "output_type": "execute_result"
    }
   ],
   "source": [
    "latlot.head(3)"
   ]
  },
  {
   "cell_type": "code",
   "execution_count": 23,
   "metadata": {
    "collapsed": false
   },
   "outputs": [
    {
     "name": "stdout",
     "output_type": "stream",
     "text": [
      "number of examples and features of latlot: (121769, 3)\n",
      "number of unique address: 121769\n",
      "number of unique lat: 91285, number of unique lon: 103152\n"
     ]
    }
   ],
   "source": [
    "print('number of examples and features of latlot: {}'.format(latlot.shape))\n",
    "print('number of unique address: {}'.format(latlot.address.nunique()))\n",
    "print('number of unique lat: {}, number of unique lon: {}'.format(latlot.lat.nunique(), latlot.lon.nunique()))"
   ]
  },
  {
   "cell_type": "code",
   "execution_count": 26,
   "metadata": {
    "collapsed": false
   },
   "outputs": [
    {
     "name": "stdout",
     "output_type": "stream",
     "text": [
      "number of repeated ticket_id exist both in train set and test set: 0\n"
     ]
    }
   ],
   "source": [
    "print('number of repeated ticket_id exist both in train set and test set: {}'.format(len(set(trainset.ticket_id).intersection(\n",
    "        testset.ticket_id))))"
   ]
  },
  {
   "cell_type": "code",
   "execution_count": 29,
   "metadata": {
    "collapsed": false
   },
   "outputs": [
    {
     "name": "stdout",
     "output_type": "stream",
     "text": [
      "number of test set ticket_id exist in address: 61001\n"
     ]
    }
   ],
   "source": [
    "print('number of test set ticket_id exist in address: {}'.format(len(set(testset.ticket_id).intersection(\n",
    "            address.ticket_id))))"
   ]
  },
  {
   "cell_type": "code",
   "execution_count": 19,
   "metadata": {
    "collapsed": false
   },
   "outputs": [
    {
     "name": "stdout",
     "output_type": "stream",
     "text": [
      "Total number of numerical features: 14 \n",
      " ['ticket_id', 'violation_street_number', 'violation_zip_code', 'mailing_address_str_number', 'fine_amount', 'admin_fee', 'state_fee', 'late_fee', 'discount_amount', 'clean_up_cost', 'judgment_amount', 'payment_amount', 'balance_due', 'compliance']\n",
      "\n",
      "drop the numerical features that is nominal categorical feature.\n",
      "\n",
      "Final numerical features: ['fine_amount', 'admin_fee', 'state_fee', 'late_fee', 'discount_amount', 'judgment_amount', 'payment_amount']\n",
      "\n"
     ]
    },
    {
     "data": {
      "image/png": "[encoded data removed]",
      "text/plain": [
       "<matplotlib.figure.Figure at 0x7f57005e0eb8>"
      ]
     },
     "metadata": {},
     "output_type": "display_data"
    }
   ],
   "source": [
    "# visualisation of the classes\n",
    "import matplotlib.pyplot as plt\n",
    "from mpl_toolkits.mplot3d import Axes3D\n",
    "from sklearn import datasets\n",
    "from sklearn.decomposition import PCA\n",
    "\n",
    "X = trainset[numerical_features].dropna()\n",
    "y = trainset.loc[X.index, 'compliance']\n",
    "\n",
    "fig = plt.figure(1, figsize=(8, 6))\n",
    "ax = Axes3D(fig, elev=-150, azim=110)\n",
    "X_reduced = PCA(n_components=3).fit_transform(X)\n",
    "ax.scatter(X_reduced[:, 0], X_reduced[:, 1], X_reduced[:, 2], c=y,\n",
    "           cmap=plt.cm.Set1, edgecolor='k', s=40)\n",
    "ax.set_title(\"First three PCA directions\")\n",
    "ax.set_xlabel(\"1st eigenvector\")\n",
    "ax.w_xaxis.set_ticklabels([])\n",
    "ax.set_ylabel(\"2nd eigenvector\")\n",
    "ax.w_yaxis.set_ticklabels([])\n",
    "ax.set_zlabel(\"3rd eigenvector\")\n",
    "ax.w_zaxis.set_ticklabels([])\n",
    "plt.show()"
   ]
  },
  {
   "cell_type": "code",
   "execution_count": 23,
   "metadata": {
    "collapsed": false
   },
   "outputs": [
    {
     "data": {
      "image/png": "[encoded data removed]",
      "text/plain": [
       "<matplotlib.figure.Figure at 0x7f57005da8d0>"
      ]
     },
     "metadata": {},
     "output_type": "display_data"
    }
   ],
   "source": [
    "X_reduced = PCA(n_components=2).fit_transform(X)\n",
    "\n",
    "x_min, x_max = X_reduced[:, 0].min() - .5, X_reduced[:, 0].max() + .5\n",
    "y_min, y_max = X_reduced[:, 1].min() - .5, X_reduced[:, 1].max() + .5\n",
    "\n",
    "plt.figure(2, figsize=(8, 6))\n",
    "plt.clf()\n",
    "\n",
    "# Plot the training points\n",
    "plt.scatter(X_reduced[:, 0], X_reduced[:, 1], c=y, cmap=plt.cm.Set1,\n",
    "            edgecolor='k')\n",
    "plt.xlabel('PCA1')\n",
    "plt.ylabel('PCA2')\n",
    "\n",
    "plt.xlim(x_min, x_max)\n",
    "plt.ylim(y_min, y_max)\n",
    "plt.xticks(())\n",
    "plt.yticks(())\n",
    "plt.show()"
   ]
  },
  {
   "cell_type": "markdown",
   "metadata": {},
   "source": [
    "Next, I will build a dummy model as baseline. I will be using sklearn.DummyClassifier, using the majority class as baseline, and submit to get the assignment score."
   ]
  },
  {
   "cell_type": "code",
   "execution_count": 3,
   "metadata": {
    "collapsed": false
   },
   "outputs": [
    {
     "name": "stdout",
     "output_type": "stream",
     "text": [
      "training set features: 6 \n",
      " training set examples: 111916\n"
     ]
    }
   ],
   "source": [
    "from sklearn.model_selection import train_test_split\n",
    "state = 35\n",
    "\n",
    "trainset_complete_case = trainset.dropna(axis=0, subset=['compliance']) #drop nan\n",
    "candidate_features = ['fine_amount', 'admin_fee', 'state_fee', 'late_fee', 'discount_amount', 'judgment_amount']\n",
    "\n",
    "X_train, X_test, y_train, y_test = train_test_split(\n",
    "    trainset_complete_case[candidate_features], \n",
    "    trainset_complete_case['compliance'], \n",
    "    test_size=0.3, \n",
    "    random_state=state)\n",
    "\n",
    "print('training set features: {} \\n training set examples: {}'.format(X_train.shape[1], X_train.shape[0]))"
   ]
  },
  {
   "cell_type": "code",
   "execution_count": 3,
   "metadata": {
    "collapsed": false
   },
   "outputs": [
    {
     "data": {
      "text/plain": [
       "0.0    103806\n",
       "1.0      8110\n",
       "Name: compliance, dtype: int64"
      ]
     },
     "execution_count": 3,
     "metadata": {},
     "output_type": "execute_result"
    }
   ],
   "source": [
    "y_train.value_counts()"
   ]
  },
  {
   "cell_type": "code",
   "execution_count": 4,
   "metadata": {
    "collapsed": false
   },
   "outputs": [
    {
     "data": {
      "text/plain": [
       "0.0    44477\n",
       "1.0     3487\n",
       "Name: compliance, dtype: int64"
      ]
     },
     "execution_count": 4,
     "metadata": {},
     "output_type": "execute_result"
    }
   ],
   "source": [
    "y_test.value_counts()"
   ]
  },
  {
   "cell_type": "code",
   "execution_count": 5,
   "metadata": {
    "collapsed": false
   },
   "outputs": [
    {
     "name": "stdout",
     "output_type": "stream",
     "text": [
      "dummy classifiers auc roc scores in validation set: \n",
      "strategy: stratified: 0.50\n",
      "strategy: most_frequent: 0.50\n",
      "strategy: prior: 0.50\n"
     ]
    }
   ],
   "source": [
    "from sklearn.dummy import DummyClassifier\n",
    "from sklearn.metrics import roc_auc_score\n",
    "\n",
    "state = 35\n",
    "\n",
    "strategies = ['stratified', 'most_frequent', 'prior']\n",
    "\n",
    "dumclfs = {}\n",
    "for strategy in strategies:\n",
    "    clf = DummyClassifier(strategy=strategy, random_state = state)\n",
    "    clf.fit(X_train, y_train)\n",
    "    y_preds = clf.predict(X_test)\n",
    "    auc = roc_auc_score(y_test, y_preds)\n",
    "    dumclfs[strategy]=auc\n",
    "\n",
    "print('dummy classifiers auc roc scores in validation set: ')\n",
    "for stra, val in sorted(dumclfs.items(), key=lambda item: item[1], reverse=True):\n",
    "    print('strategy: {}: {:.2f}'.format(stra, val))"
   ]
  },
  {
   "cell_type": "code",
   "execution_count": 4,
   "metadata": {
    "collapsed": false
   },
   "outputs": [
    {
     "name": "stdout",
     "output_type": "stream",
     "text": [
      "Logistic regression classifier (default settings)\n",
      " 0.54935726923\n"
     ]
    }
   ],
   "source": [
    "from sklearn.linear_model import LogisticRegression\n",
    "\n",
    "lr = LogisticRegression().fit(X_train, y_train)\n",
    "lr_predicted = lr.predict(X_test)\n",
    "auc = roc_auc_score(y_test, lr_predicted)\n",
    "dumclfs['logistic_regession']=auc\n",
    "\n",
    "print('Logistic regression classifier (default settings)\\n', auc)"
   ]
  },
  {
   "cell_type": "code",
   "execution_count": 5,
   "metadata": {
    "collapsed": false
   },
   "outputs": [
    {
     "name": "stdout",
     "output_type": "stream",
     "text": [
      "Decision tree classifier (max_depth = 2)\n",
      " 0.543233495646\n"
     ]
    }
   ],
   "source": [
    "from sklearn.tree import DecisionTreeClassifier\n",
    "\n",
    "dt = DecisionTreeClassifier(max_depth=2).fit(X_train, y_train)\n",
    "tree_predicted = dt.predict(X_test)\n",
    "auc = roc_auc_score(y_test, tree_predicted)\n",
    "dumclfs['decision_tree']=auc\n",
    "\n",
    "print('Decision tree classifier (max_depth = 2)\\n', auc)"
   ]
  },
  {
   "cell_type": "code",
   "execution_count": null,
   "metadata": {
    "collapsed": true
   },
   "outputs": [],
   "source": [
    "## doesn't work ##\n",
    "from sklearn.svm import SVC\n",
    "\n",
    "svc = SVC().fit(X_train, y_train)\n",
    "svc_predicted = svc.predict(X_test)\n",
    "auc = roc_auc_score(y_test, svc_predicted)\n",
    "dumclfs['svc']=auc\n",
    "\n",
    "print('SVC Linear Kernel (C = 1)\\n', auc)"
   ]
  },
  {
   "cell_type": "code",
   "execution_count": 6,
   "metadata": {
    "collapsed": false
   },
   "outputs": [
    {
     "name": "stdout",
     "output_type": "stream",
     "text": [
      "RF Classifier \n",
      " 0.552531344779\n"
     ]
    }
   ],
   "source": [
    "from sklearn.ensemble import RandomForestClassifier\n",
    "\n",
    "rf = RandomForestClassifier().fit(X_train, y_train)\n",
    "rf_predicted = rf.predict(X_test)\n",
    "auc = roc_auc_score(y_test, rf_predicted)\n",
    "dumclfs['rf']=auc\n",
    "\n",
    "print('RF Classifier \\n', auc)"
   ]
  },
  {
   "cell_type": "code",
   "execution_count": 7,
   "metadata": {
    "collapsed": false
   },
   "outputs": [
    {
     "name": "stdout",
     "output_type": "stream",
     "text": [
      "knn Classifier \n",
      " 0.557817492392\n"
     ]
    }
   ],
   "source": [
    "from sklearn.neighbors import KNeighborsClassifier\n",
    "\n",
    "knn = KNeighborsClassifier().fit(X_train, y_train)\n",
    "knn_predicted = knn.predict(X_test)\n",
    "auc = roc_auc_score(y_test, knn_predicted)\n",
    "dumclfs['knn']=auc\n",
    "\n",
    "print('knn Classifier \\n', auc)"
   ]
  },
  {
   "cell_type": "code",
   "execution_count": 6,
   "metadata": {
    "collapsed": false
   },
   "outputs": [
    {
     "name": "stdout",
     "output_type": "stream",
     "text": [
      "gdb Classifier \n",
      " 0.552531344779\n"
     ]
    }
   ],
   "source": [
    "from sklearn.ensemble import GradientBoostingClassifier\n",
    "\n",
    "gdb = GradientBoostingClassifier().fit(X_train, y_train)\n",
    "gdb_predicted = gdb.predict(X_test)\n",
    "auc = roc_auc_score(y_test, gdb_predicted)\n",
    "dumclfs['gdb']=auc\n",
    "\n",
    "print('gdb Classifier \\n', auc)"
   ]
  },
  {
   "cell_type": "code",
   "execution_count": 7,
   "metadata": {
    "collapsed": false
   },
   "outputs": [
    {
     "name": "stdout",
     "output_type": "stream",
     "text": [
      "nbclf Classifier \n",
      " 0.543233495646\n"
     ]
    }
   ],
   "source": [
    "from sklearn.naive_bayes import GaussianNB\n",
    "nbclf = GaussianNB().fit(X_train, y_train)\n",
    "nbclf_predicted = nbclf.predict(X_test)\n",
    "auc = roc_auc_score(y_test, nbclf_predicted)\n",
    "dumclfs['nbclf']=auc\n",
    "\n",
    "print('nbclf Classifier \\n', auc)"
   ]
  },
  {
   "cell_type": "code",
   "execution_count": 9,
   "metadata": {
    "collapsed": false
   },
   "outputs": [],
   "source": [
    "## PCA\n",
    "\n",
    "from sklearn.decomposition import PCA\n",
    "pca = PCA(n_components=3)\n",
    "X_train_reduced = pca.fit_transform(X_train)\n",
    "X_test_reduced = pca.transform(X_test)"
   ]
  },
  {
   "cell_type": "code",
   "execution_count": 10,
   "metadata": {
    "collapsed": false
   },
   "outputs": [
    {
     "name": "stdout",
     "output_type": "stream",
     "text": [
      "gdb_pca3 Classifier \n",
      " 0.55237671328\n"
     ]
    }
   ],
   "source": [
    "gdb_pca3 = GradientBoostingClassifier().fit(X_train_reduced, y_train)\n",
    "gdb_pca3_predicted = gdb_pca3.predict(X_test_reduced)\n",
    "auc = roc_auc_score(y_test, gdb_pca3_predicted)\n",
    "dumclfs['gdb_pca3']=auc\n",
    "\n",
    "print('gdb_pca3 Classifier \\n', auc)"
   ]
  },
  {
   "cell_type": "code",
   "execution_count": 2,
   "metadata": {
    "collapsed": false
   },
   "outputs": [
    {
     "data": {
      "text/plain": [
       "('shape of train merged (250306, 37) \\n', 'shape of test merged (61001, 30)')"
      ]
     },
     "execution_count": 2,
     "metadata": {},
     "output_type": "execute_result"
    }
   ],
   "source": [
    "# merge address, latlot with trainset\n",
    "\n",
    "address_latlon = pd.merge(address, latlot, on='address', how='left')\n",
    "train_merged = pd.merge(trainset, address_latlon, on='ticket_id', how='left')\n",
    "test_merged = pd.merge(testset, address_latlon, on ='ticket_id', how='left')\n",
    "print\n",
    "(\n",
    "    f'shape of train merged {train_merged.shape} \\n',\n",
    "    f'shape of test merged {test_merged.shape}')"
   ]
  },
  {
   "cell_type": "code",
   "execution_count": 6,
   "metadata": {
    "collapsed": false
   },
   "outputs": [
    {
     "data": {
      "text/html": [
       "<div>\n",
       "<table border=\"1\" class=\"dataframe\">\n",
       "  <thead>\n",
       "    <tr style=\"text-align: right;\">\n",
       "      <th></th>\n",
       "      <th>ticket_id</th>\n",
       "      <th>agency_name</th>\n",
       "      <th>inspector_name</th>\n",
       "      <th>violator_name</th>\n",
       "      <th>violation_street_number</th>\n",
       "      <th>violation_street_name</th>\n",
       "      <th>violation_zip_code</th>\n",
       "      <th>mailing_address_str_number</th>\n",
       "      <th>mailing_address_str_name</th>\n",
       "      <th>city</th>\n",
       "      <th>state</th>\n",
       "      <th>zip_code</th>\n",
       "      <th>non_us_str_code</th>\n",
       "      <th>country</th>\n",
       "      <th>ticket_issued_date</th>\n",
       "      <th>hearing_date</th>\n",
       "      <th>violation_code</th>\n",
       "      <th>violation_description</th>\n",
       "      <th>disposition</th>\n",
       "      <th>fine_amount</th>\n",
       "      <th>admin_fee</th>\n",
       "      <th>state_fee</th>\n",
       "      <th>late_fee</th>\n",
       "      <th>discount_amount</th>\n",
       "      <th>clean_up_cost</th>\n",
       "      <th>judgment_amount</th>\n",
       "      <th>payment_amount</th>\n",
       "      <th>balance_due</th>\n",
       "      <th>payment_date</th>\n",
       "      <th>payment_status</th>\n",
       "      <th>collection_status</th>\n",
       "      <th>grafitti_status</th>\n",
       "      <th>compliance_detail</th>\n",
       "      <th>compliance</th>\n",
       "      <th>address</th>\n",
       "      <th>lat</th>\n",
       "      <th>lon</th>\n",
       "    </tr>\n",
       "  </thead>\n",
       "  <tbody>\n",
       "    <tr>\n",
       "      <th>0</th>\n",
       "      <td>22056</td>\n",
       "      <td>Buildings, Safety Engineering &amp; Env Department</td>\n",
       "      <td>Sims, Martinzie</td>\n",
       "      <td>INVESTMENT INC., MIDWEST MORTGAGE</td>\n",
       "      <td>2900.0</td>\n",
       "      <td>TYLER</td>\n",
       "      <td>NaN</td>\n",
       "      <td>3.0</td>\n",
       "      <td>S. WICKER</td>\n",
       "      <td>CHICAGO</td>\n",
       "      <td>IL</td>\n",
       "      <td>60606</td>\n",
       "      <td>NaN</td>\n",
       "      <td>USA</td>\n",
       "      <td>2004-03-16 11:40:00</td>\n",
       "      <td>2005-03-21 10:30:00</td>\n",
       "      <td>9-1-36(a)</td>\n",
       "      <td>Failure of owner to obtain certificate of comp...</td>\n",
       "      <td>Responsible by Default</td>\n",
       "      <td>250.0</td>\n",
       "      <td>20.0</td>\n",
       "      <td>10.0</td>\n",
       "      <td>25.0</td>\n",
       "      <td>0.0</td>\n",
       "      <td>0.0</td>\n",
       "      <td>305.0</td>\n",
       "      <td>0.0</td>\n",
       "      <td>305.0</td>\n",
       "      <td>NaN</td>\n",
       "      <td>NO PAYMENT APPLIED</td>\n",
       "      <td>NaN</td>\n",
       "      <td>NaN</td>\n",
       "      <td>non-compliant by no payment</td>\n",
       "      <td>0.0</td>\n",
       "      <td>2900 tyler, Detroit MI</td>\n",
       "      <td>42.390729</td>\n",
       "      <td>-83.124268</td>\n",
       "    </tr>\n",
       "    <tr>\n",
       "      <th>1</th>\n",
       "      <td>27586</td>\n",
       "      <td>Buildings, Safety Engineering &amp; Env Department</td>\n",
       "      <td>Williams, Darrin</td>\n",
       "      <td>Michigan, Covenant House</td>\n",
       "      <td>4311.0</td>\n",
       "      <td>CENTRAL</td>\n",
       "      <td>NaN</td>\n",
       "      <td>2959.0</td>\n",
       "      <td>Martin Luther King</td>\n",
       "      <td>Detroit</td>\n",
       "      <td>MI</td>\n",
       "      <td>48208</td>\n",
       "      <td>NaN</td>\n",
       "      <td>USA</td>\n",
       "      <td>2004-04-23 12:30:00</td>\n",
       "      <td>2005-05-06 13:30:00</td>\n",
       "      <td>61-63.0600</td>\n",
       "      <td>Failed To Secure Permit For Lawful Use Of Buil...</td>\n",
       "      <td>Responsible by Determination</td>\n",
       "      <td>750.0</td>\n",
       "      <td>20.0</td>\n",
       "      <td>10.0</td>\n",
       "      <td>75.0</td>\n",
       "      <td>0.0</td>\n",
       "      <td>0.0</td>\n",
       "      <td>855.0</td>\n",
       "      <td>780.0</td>\n",
       "      <td>75.0</td>\n",
       "      <td>2005-06-02 00:00:00</td>\n",
       "      <td>PAID IN FULL</td>\n",
       "      <td>NaN</td>\n",
       "      <td>NaN</td>\n",
       "      <td>compliant by late payment within 1 month</td>\n",
       "      <td>1.0</td>\n",
       "      <td>4311 central, Detroit MI</td>\n",
       "      <td>42.326937</td>\n",
       "      <td>-83.135118</td>\n",
       "    </tr>\n",
       "    <tr>\n",
       "      <th>2</th>\n",
       "      <td>22062</td>\n",
       "      <td>Buildings, Safety Engineering &amp; Env Department</td>\n",
       "      <td>Sims, Martinzie</td>\n",
       "      <td>SANDERS, DERRON</td>\n",
       "      <td>1449.0</td>\n",
       "      <td>LONGFELLOW</td>\n",
       "      <td>NaN</td>\n",
       "      <td>23658.0</td>\n",
       "      <td>P.O. BOX</td>\n",
       "      <td>DETROIT</td>\n",
       "      <td>MI</td>\n",
       "      <td>48223</td>\n",
       "      <td>NaN</td>\n",
       "      <td>USA</td>\n",
       "      <td>2004-04-26 13:40:00</td>\n",
       "      <td>2005-03-29 10:30:00</td>\n",
       "      <td>9-1-36(a)</td>\n",
       "      <td>Failure of owner to obtain certificate of comp...</td>\n",
       "      <td>Not responsible by Dismissal</td>\n",
       "      <td>250.0</td>\n",
       "      <td>0.0</td>\n",
       "      <td>0.0</td>\n",
       "      <td>0.0</td>\n",
       "      <td>0.0</td>\n",
       "      <td>0.0</td>\n",
       "      <td>0.0</td>\n",
       "      <td>0.0</td>\n",
       "      <td>0.0</td>\n",
       "      <td>NaN</td>\n",
       "      <td>NO PAYMENT APPLIED</td>\n",
       "      <td>NaN</td>\n",
       "      <td>NaN</td>\n",
       "      <td>not responsible by disposition</td>\n",
       "      <td>NaN</td>\n",
       "      <td>1449 longfellow, Detroit MI</td>\n",
       "      <td>42.380516</td>\n",
       "      <td>-83.096069</td>\n",
       "    </tr>\n",
       "  </tbody>\n",
       "</table>\n",
       "</div>"
      ],
      "text/plain": [
       "   ticket_id                                     agency_name  \\\n",
       "0      22056  Buildings, Safety Engineering & Env Department   \n",
       "1      27586  Buildings, Safety Engineering & Env Department   \n",
       "2      22062  Buildings, Safety Engineering & Env Department   \n",
       "\n",
       "     inspector_name                      violator_name  \\\n",
       "0   Sims, Martinzie  INVESTMENT INC., MIDWEST MORTGAGE   \n",
       "1  Williams, Darrin           Michigan, Covenant House   \n",
       "2   Sims, Martinzie                    SANDERS, DERRON   \n",
       "\n",
       "   violation_street_number violation_street_name  violation_zip_code  \\\n",
       "0                   2900.0                 TYLER                 NaN   \n",
       "1                   4311.0               CENTRAL                 NaN   \n",
       "2                   1449.0            LONGFELLOW                 NaN   \n",
       "\n",
       "   mailing_address_str_number mailing_address_str_name     city state  \\\n",
       "0                         3.0                S. WICKER  CHICAGO    IL   \n",
       "1                      2959.0       Martin Luther King  Detroit    MI   \n",
       "2                     23658.0                 P.O. BOX  DETROIT    MI   \n",
       "\n",
       "  zip_code non_us_str_code country   ticket_issued_date         hearing_date  \\\n",
       "0    60606             NaN     USA  2004-03-16 11:40:00  2005-03-21 10:30:00   \n",
       "1    48208             NaN     USA  2004-04-23 12:30:00  2005-05-06 13:30:00   \n",
       "2    48223             NaN     USA  2004-04-26 13:40:00  2005-03-29 10:30:00   \n",
       "\n",
       "  violation_code                              violation_description  \\\n",
       "0      9-1-36(a)  Failure of owner to obtain certificate of comp...   \n",
       "1     61-63.0600  Failed To Secure Permit For Lawful Use Of Buil...   \n",
       "2      9-1-36(a)  Failure of owner to obtain certificate of comp...   \n",
       "\n",
       "                    disposition  fine_amount  admin_fee  state_fee  late_fee  \\\n",
       "0        Responsible by Default        250.0       20.0       10.0      25.0   \n",
       "1  Responsible by Determination        750.0       20.0       10.0      75.0   \n",
       "2  Not responsible by Dismissal        250.0        0.0        0.0       0.0   \n",
       "\n",
       "   discount_amount  clean_up_cost  judgment_amount  payment_amount  \\\n",
       "0              0.0            0.0            305.0             0.0   \n",
       "1              0.0            0.0            855.0           780.0   \n",
       "2              0.0            0.0              0.0             0.0   \n",
       "\n",
       "   balance_due         payment_date      payment_status collection_status  \\\n",
       "0        305.0                  NaN  NO PAYMENT APPLIED               NaN   \n",
       "1         75.0  2005-06-02 00:00:00        PAID IN FULL               NaN   \n",
       "2          0.0                  NaN  NO PAYMENT APPLIED               NaN   \n",
       "\n",
       "  grafitti_status                         compliance_detail  compliance  \\\n",
       "0             NaN               non-compliant by no payment         0.0   \n",
       "1             NaN  compliant by late payment within 1 month         1.0   \n",
       "2             NaN            not responsible by disposition         NaN   \n",
       "\n",
       "                       address        lat        lon  \n",
       "0       2900 tyler, Detroit MI  42.390729 -83.124268  \n",
       "1     4311 central, Detroit MI  42.326937 -83.135118  \n",
       "2  1449 longfellow, Detroit MI  42.380516 -83.096069  "
      ]
     },
     "execution_count": 6,
     "metadata": {},
     "output_type": "execute_result"
    }
   ],
   "source": [
    "train_merged.head(3)"
   ]
  },
  {
   "cell_type": "code",
   "execution_count": 3,
   "metadata": {
    "collapsed": false
   },
   "outputs": [
    {
     "name": "stdout",
     "output_type": "stream",
     "text": [
      "number of low cardinality features and its unique values: \n",
      "\n",
      "In training set: \n",
      "\n",
      "agency_name has only 5 known unique values: \n",
      " ['Buildings, Safety Engineering & Env Department' 'Health Department'\n",
      " 'Department of Public Works' 'Detroit Police Department'\n",
      " 'Neighborhood City Halls']\n",
      "violation_zip_code has only 0 known unique values: \n",
      " [ nan]\n",
      "non_us_str_code has only 2 known unique values: \n",
      " [nan ', Australia' 'ONTARIO, Canada']\n",
      "country has only 5 known unique values: \n",
      " ['USA' 'Cana' 'Aust' 'Egyp' 'Germ']\n",
      "admin_fee has only 2 known unique values: \n",
      " [ 20.   0.]\n",
      "state_fee has only 2 known unique values: \n",
      " [ 10.   0.]\n",
      "clean_up_cost has only 1 known unique values: \n",
      " [ 0.]\n",
      "payment_status has only 3 known unique values: \n",
      " ['NO PAYMENT APPLIED' 'PAID IN FULL' 'PARTIAL PAYMENT APPLIED']\n",
      "collection_status has only 1 known unique values: \n",
      " [nan 'IN COLLECTION']\n",
      "grafitti_status has only 1 known unique values: \n",
      " [nan 'GRAFFITI TICKET']\n",
      "compliance has only 2 known unique values: \n",
      " [  0.   1.  nan]\n",
      "\n",
      "In test set: \n",
      "\n",
      "agency_name has only 3 known unique values: \n",
      " ['Department of Public Works'\n",
      " 'Buildings, Safety Engineering & Env Department'\n",
      " 'Detroit Police Department']\n",
      "non_us_str_code has only 0 known unique values: \n",
      " [ nan]\n",
      "country has only 1 known unique values: \n",
      " ['USA']\n",
      "admin_fee has only 1 known unique values: \n",
      " [ 20.]\n",
      "state_fee has only 1 known unique values: \n",
      " [ 10.]\n",
      "grafitti_status has only 1 known unique values: \n",
      " [nan 'GRAFFITI TICKET']\n"
     ]
    }
   ],
   "source": [
    "print('number of low cardinality features and its unique values: \\n')\n",
    "\n",
    "print('In training set: \\n')\n",
    "\n",
    "for col in train_merged.columns:\n",
    "    if train_merged[col].nunique() <= 5:\n",
    "        print('{} has only {} known unique values: \\n {}'.format(col, train_merged[col].nunique(), train_merged[col].unique()))\n",
    "        \n",
    "print('\\nIn test set: \\n')\n",
    "\n",
    "for col in test_merged.columns:\n",
    "    if test_merged[col].nunique() <= 5:\n",
    "        print('{} has only {} known unique values: \\n {}'.format(col, test_merged[col].nunique(), test_merged[col].unique()))"
   ]
  },
  {
   "cell_type": "code",
   "execution_count": 3,
   "metadata": {
    "collapsed": false
   },
   "outputs": [
    {
     "name": "stdout",
     "output_type": "stream",
     "text": [
      "Total number of tickets whose country is not USA: 13\n",
      "Total number of agency names that were not involved: \n",
      "8905\n",
      "After dropping other countries, the training dataset shape: (241388, 37)\n"
     ]
    }
   ],
   "source": [
    "# drop the rows in trainset where country is not 'USA'\n",
    "print('Total number of tickets whose country is not USA: {}'.format(sum(train_merged.country != 'USA')))\n",
    "train_merged_prep = train_merged[train_merged.country == 'USA']\n",
    "\n",
    "# drop the agency name from train set that is not in  ['Department of Public Works', 'Buildings, Safety Engineering & Env Department', 'Detroit Police Department']\n",
    "print('Total number of agency names that were not involved: ')\n",
    "print(sum(train_merged_prep.agency_name.map(lambda name: name not in ['Department of Public Works',\\\n",
    "                                                                'Buildings, Safety Engineering & Env Department',\\\n",
    "                                                                'Detroit Police Department'])))\n",
    "train_merged_prep = train_merged_prep[train_merged_prep.agency_name.map(lambda name: name in ['Department of Public Works',\\\n",
    "                                                                        'Buildings, Safety Engineering & Env Department',\\\n",
    "                                                                        'Detroit Police Department'])]\n",
    "\n",
    "print('After dropping other countries, the training dataset shape: {}'.format(train_merged_prep.shape))"
   ]
  },
  {
   "cell_type": "code",
   "execution_count": 63,
   "metadata": {
    "collapsed": false
   },
   "outputs": [
    {
     "data": {
      "text/html": [
       "<div>\n",
       "<table border=\"1\" class=\"dataframe\">\n",
       "  <thead>\n",
       "    <tr style=\"text-align: right;\">\n",
       "      <th>collection_status</th>\n",
       "      <th>IN COLLECTION</th>\n",
       "      <th>collection_unknown</th>\n",
       "    </tr>\n",
       "    <tr>\n",
       "      <th>compliance</th>\n",
       "      <th></th>\n",
       "      <th></th>\n",
       "    </tr>\n",
       "  </thead>\n",
       "  <tbody>\n",
       "    <tr>\n",
       "      <th>0.0</th>\n",
       "      <td>35477</td>\n",
       "      <td>106157</td>\n",
       "    </tr>\n",
       "    <tr>\n",
       "      <th>1.0</th>\n",
       "      <td>118</td>\n",
       "      <td>11009</td>\n",
       "    </tr>\n",
       "  </tbody>\n",
       "</table>\n",
       "</div>"
      ],
      "text/plain": [
       "collection_status  IN COLLECTION  collection_unknown\n",
       "compliance                                          \n",
       "0.0                        35477              106157\n",
       "1.0                          118               11009"
      ]
     },
     "execution_count": 63,
     "metadata": {},
     "output_type": "execute_result"
    }
   ],
   "source": [
    "# what's the relation between collection_status and compliance\n",
    "\n",
    "train_merged_prep.replace({'collection_status': np.nan}, 'collection_unknown').groupby(\n",
    "    ['collection_status', 'compliance']).size().unstack('collection_status')"
   ]
  },
  {
   "cell_type": "code",
   "execution_count": 17,
   "metadata": {
    "collapsed": false
   },
   "outputs": [
    {
     "name": "stdout",
     "output_type": "stream",
     "text": [
      "Disposition Distribution in Training Set:\n",
      " Responsible by Default                132568\n",
      "Not responsible by Dismissal           47358\n",
      "Not responsible by City Dismissal      34132\n",
      "Responsible by Admission               12804\n",
      "Responsible by Determination            7194\n",
      "Not responsible by Determination        6498\n",
      "PENDING JUDGMENT                         359\n",
      "SET-ASIDE (PENDING JUDGMENT)             280\n",
      "Responsible (Fine Waived) by Deter       195\n",
      "Name: disposition, dtype: int64\n",
      " Total types: 9\n"
     ]
    }
   ],
   "source": [
    "print(\n",
    "    f'Disposition Distribution in Training Set:\\n',\n",
    "    f'{train_merged_prep.disposition.value_counts()}\\n',\n",
    "    f'Total types: {train_merged_prep.disposition.nunique()}')"
   ]
  },
  {
   "cell_type": "code",
   "execution_count": 43,
   "metadata": {
    "collapsed": false
   },
   "outputs": [
    {
     "name": "stdout",
     "output_type": "stream",
     "text": [
      "Disposition Distribution in Test Set:\n",
      " Responsible by Default                51602\n",
      "Responsible by Admission               4484\n",
      "Responsible by Determination           4124\n",
      "Responsible (Fine Waived) by Deter      781\n",
      "Responsible - Compl/Adj by Default        6\n",
      "Responsible - Compl/Adj by Determi        2\n",
      "Responsible (Fine Waived) by Admis        1\n",
      "Responsible by Dismissal                  1\n",
      "Name: disposition, dtype: int64 \n",
      " Total types: 8 \n",
      " \n",
      "Are there any different levels between train and test set?: \n",
      "     {'Responsible - Compl/Adj by Default', 'Responsible by Dismissal', 'Not responsible by Determination', 'Not responsible by Dismissal', 'SET-ASIDE (PENDING JUDGMENT)', 'PENDING JUDGMENT', 'Responsible - Compl/Adj by Determi', 'Not responsible by City Dismissal', 'Responsible (Fine Waived) by Admis'}\n"
     ]
    }
   ],
   "source": [
    "print(\n",
    "    f'Disposition Distribution in Test Set:\\n',\n",
    "    f'{test_merged.disposition.value_counts()} \\n',\n",
    "    f'Total types: {test_merged.disposition.nunique()} \\n',\n",
    "    f'\\nAre there any different levels between train and test set?: \\n \\\n",
    "    {set(test_merged.disposition.unique()).symmetric_difference(set(train_merged_prep.disposition.unique()))}')"
   ]
  },
  {
   "cell_type": "code",
   "execution_count": 4,
   "metadata": {
    "collapsed": false
   },
   "outputs": [],
   "source": [
    "# more feature engineering\n",
    "\n",
    "x2 = pd.to_datetime(train_merged_prep.hearing_date)\n",
    "x1 = pd.to_datetime(train_merged_prep.ticket_issued_date)\n",
    "train_merged_prep['waiting_time'] = (x2-x1).astype('timedelta64[D]')\n",
    "#train_merged_prep.loc[np.where(train_merged_prep.waiting_time == 'NaT'),'waiting_time'] = train_merged_prep.waiting_time.mean()\n",
    "\n",
    "\n",
    "x2 = pd.to_datetime(test_merged.hearing_date)\n",
    "x1 = pd.to_datetime(test_merged.ticket_issued_date)\n",
    "test_merged['waiting_time'] = (x2-x1).astype('timedelta64[D]')\n",
    "#train_merged_prep.loc[np.where(train_merged_prep.waiting_time == 'NaT'),'waiting_time'] = train_merged_prep.waiting_time.mean()"
   ]
  },
  {
   "cell_type": "code",
   "execution_count": 56,
   "metadata": {
    "collapsed": false
   },
   "outputs": [
    {
     "data": {
      "image/png": "[encoded data removed]",
      "text/plain": [
       "<matplotlib.figure.Figure at 0x7f41141d6b00>"
      ]
     },
     "metadata": {},
     "output_type": "display_data"
    }
   ],
   "source": [
    "import matplotlib.pyplot as plt\n",
    "train_merged_prep[['waiting_time']].boxplot()\n",
    "plt.show()"
   ]
  },
  {
   "cell_type": "code",
   "execution_count": 58,
   "metadata": {
    "collapsed": false
   },
   "outputs": [
    {
     "data": {
      "image/png": "[encoded data removed]",
      "text/plain": [
       "<matplotlib.figure.Figure at 0x7f4114018358>"
      ]
     },
     "metadata": {},
     "output_type": "display_data"
    }
   ],
   "source": [
    "test_merged[['waiting_time']].boxplot()\n",
    "plt.show()"
   ]
  },
  {
   "cell_type": "code",
   "execution_count": 62,
   "metadata": {
    "collapsed": false
   },
   "outputs": [
    {
     "data": {
      "text/html": [
       "<div>\n",
       "<table border=\"1\" class=\"dataframe\">\n",
       "  <thead>\n",
       "    <tr style=\"text-align: right;\">\n",
       "      <th></th>\n",
       "      <th>min</th>\n",
       "      <th>mean</th>\n",
       "      <th>median</th>\n",
       "      <th>max</th>\n",
       "      <th>std</th>\n",
       "    </tr>\n",
       "    <tr>\n",
       "      <th>compliance</th>\n",
       "      <th></th>\n",
       "      <th></th>\n",
       "      <th></th>\n",
       "      <th></th>\n",
       "      <th></th>\n",
       "    </tr>\n",
       "  </thead>\n",
       "  <tbody>\n",
       "    <tr>\n",
       "      <th>0.0</th>\n",
       "      <td>-337.0</td>\n",
       "      <td>72.569808</td>\n",
       "      <td>54.0</td>\n",
       "      <td>4325.0</td>\n",
       "      <td>58.813121</td>\n",
       "    </tr>\n",
       "    <tr>\n",
       "      <th>1.0</th>\n",
       "      <td>-336.0</td>\n",
       "      <td>72.471237</td>\n",
       "      <td>49.0</td>\n",
       "      <td>7933.0</td>\n",
       "      <td>98.011098</td>\n",
       "    </tr>\n",
       "  </tbody>\n",
       "</table>\n",
       "</div>"
      ],
      "text/plain": [
       "              min       mean  median     max        std\n",
       "compliance                                             \n",
       "0.0        -337.0  72.569808    54.0  4325.0  58.813121\n",
       "1.0        -336.0  72.471237    49.0  7933.0  98.011098"
      ]
     },
     "execution_count": 62,
     "metadata": {},
     "output_type": "execute_result"
    }
   ],
   "source": [
    "train_merged_prep.groupby('compliance')['waiting_time'].agg(['min','mean', 'median', 'max', 'std'])"
   ]
  },
  {
   "cell_type": "markdown",
   "metadata": {},
   "source": [
    "Below features are not available in test set. Remove features.\n",
    "\n",
    "- payment_amount - Amount paid, if any\n",
    "- payment_date - Date payment was made, if it was received\n",
    "- payment_status - Current payment status as of Feb 1 2017\n",
    "- balance_due - Fines and fees still owed\n",
    "- collection_status - Flag for payments in collections\n",
    "- compliance [target variable for prediction] \n",
    "     * Null = Not responsible\n",
    "     * 0 = Responsible, non-compliant\n",
    "     * 1 = Responsible, compliant\n",
    "- compliance_detail - More information on why each ticket was marked compliant or non-compliant"
   ]
  },
  {
   "cell_type": "code",
   "execution_count": 5,
   "metadata": {
    "collapsed": false
   },
   "outputs": [
    {
     "name": "stdout",
     "output_type": "stream",
     "text": [
      "total known features: 31 \n",
      "\n",
      "['judgment_amount', 'discount_amount', 'ticket_id', 'lat', 'fine_amount', 'grafitti_status', 'violation_code', 'mailing_address_str_number', 'state', 'disposition', 'violator_name', 'address', 'zip_code', 'hearing_date', 'clean_up_cost', 'admin_fee', 'violation_zip_code', 'inspector_name', 'ticket_issued_date', 'city', 'violation_street_number', 'late_fee', 'violation_street_name', 'non_us_str_code', 'lon', 'mailing_address_str_name', 'country', 'state_fee', 'agency_name', 'violation_description', 'waiting_time']\n",
      "\n",
      "total unknown features: 6 \n",
      "\n",
      "['balance_due', 'collection_status', 'compliance_detail', 'payment_amount', 'payment_date', 'payment_status']\n",
      "Total number of known numerical features: 6 \n",
      " ['judgment_amount', 'discount_amount', 'fine_amount', 'admin_fee', 'late_fee', 'state_fee']\n",
      "\n",
      "Add below features that might also be useful: \n",
      "\n",
      "['agency_name', 'lat', 'lon', 'state', 'violation_code', 'grafitti_status']\n",
      "\n",
      "shape of train: (241388, 13)\n",
      " shape of test: (61001, 12)\n"
     ]
    }
   ],
   "source": [
    "known_features = (train_merged_prep.columns).intersection(set(test_merged.columns)).values.tolist()\n",
    "unknown_features = (train_merged_prep.columns).difference(set(test_merged.columns)).values.tolist()\n",
    "unknown_features.remove('compliance')\n",
    "\n",
    "print('total known features: {} \\n'.format(len(known_features)))\n",
    "print(known_features)\n",
    "print('\\ntotal unknown features: {} \\n'.format(len(unknown_features)))\n",
    "print(unknown_features)\n",
    "\n",
    "numerical_features = [col for col in known_features if (\n",
    "        train_merged_prep[col].dtype in ['int64', 'float64']) & (('fee' in col) | ('amount' in col))]\n",
    "print('Total number of known numerical features: {} \\n {}\\n'.format(len(numerical_features), numerical_features))\n",
    "\n",
    "print('Add below features that might also be useful: ')\n",
    "catI = ['agency_name', 'lat', 'lon', 'state', 'violation_code', 'grafitti_status']\n",
    "print(f'\\n{catI}')\n",
    "\n",
    "featI = numerical_features + catI\n",
    "target = 'compliance'\n",
    "\n",
    "train_featI = train_merged_prep[featI+[target]]\n",
    "test_featI = test_merged[featI]\n",
    "\n",
    "print(f'\\nshape of train: {train_featI.shape}\\n',\n",
    "     f'shape of test: {test_featI.shape}')"
   ]
  },
  {
   "cell_type": "markdown",
   "metadata": {},
   "source": [
    "The unknown features match with the provided unknown features mentioned in the assignment. They will be deleted from training model."
   ]
  },
  {
   "cell_type": "code",
   "execution_count": 71,
   "metadata": {
    "collapsed": false
   },
   "outputs": [
    {
     "data": {
      "text/plain": [
       "fine_amount        float64\n",
       "state_fee          float64\n",
       "admin_fee          float64\n",
       "discount_amount    float64\n",
       "judgment_amount    float64\n",
       "late_fee           float64\n",
       "agency_name         object\n",
       "lat                float64\n",
       "lon                float64\n",
       "state               object\n",
       "violation_code      object\n",
       "grafitti_status     object\n",
       "compliance         float64\n",
       "dtype: object"
      ]
     },
     "execution_count": 71,
     "metadata": {},
     "output_type": "execute_result"
    }
   ],
   "source": [
    "train_featI.dtypes"
   ]
  },
  {
   "cell_type": "code",
   "execution_count": 74,
   "metadata": {
    "collapsed": false
   },
   "outputs": [
    {
     "data": {
      "text/html": [
       "<div>\n",
       "<table border=\"1\" class=\"dataframe\">\n",
       "  <thead>\n",
       "    <tr style=\"text-align: right;\">\n",
       "      <th></th>\n",
       "      <th>fine_amount</th>\n",
       "      <th>state_fee</th>\n",
       "      <th>admin_fee</th>\n",
       "      <th>discount_amount</th>\n",
       "      <th>judgment_amount</th>\n",
       "      <th>late_fee</th>\n",
       "      <th>agency_name</th>\n",
       "      <th>lat</th>\n",
       "      <th>lon</th>\n",
       "      <th>state</th>\n",
       "      <th>violation_code</th>\n",
       "      <th>grafitti_status</th>\n",
       "      <th>compliance</th>\n",
       "    </tr>\n",
       "  </thead>\n",
       "  <tbody>\n",
       "    <tr>\n",
       "      <th>0</th>\n",
       "      <td>250.0</td>\n",
       "      <td>10.0</td>\n",
       "      <td>20.0</td>\n",
       "      <td>0.0</td>\n",
       "      <td>305.0</td>\n",
       "      <td>25.0</td>\n",
       "      <td>Buildings, Safety Engineering &amp; Env Department</td>\n",
       "      <td>42.390729</td>\n",
       "      <td>-83.124268</td>\n",
       "      <td>IL</td>\n",
       "      <td>9-1-36(a)</td>\n",
       "      <td>NaN</td>\n",
       "      <td>0.0</td>\n",
       "    </tr>\n",
       "    <tr>\n",
       "      <th>1</th>\n",
       "      <td>750.0</td>\n",
       "      <td>10.0</td>\n",
       "      <td>20.0</td>\n",
       "      <td>0.0</td>\n",
       "      <td>855.0</td>\n",
       "      <td>75.0</td>\n",
       "      <td>Buildings, Safety Engineering &amp; Env Department</td>\n",
       "      <td>42.326937</td>\n",
       "      <td>-83.135118</td>\n",
       "      <td>MI</td>\n",
       "      <td>61-63.0600</td>\n",
       "      <td>NaN</td>\n",
       "      <td>1.0</td>\n",
       "    </tr>\n",
       "    <tr>\n",
       "      <th>2</th>\n",
       "      <td>250.0</td>\n",
       "      <td>0.0</td>\n",
       "      <td>0.0</td>\n",
       "      <td>0.0</td>\n",
       "      <td>0.0</td>\n",
       "      <td>0.0</td>\n",
       "      <td>Buildings, Safety Engineering &amp; Env Department</td>\n",
       "      <td>42.380516</td>\n",
       "      <td>-83.096069</td>\n",
       "      <td>MI</td>\n",
       "      <td>9-1-36(a)</td>\n",
       "      <td>NaN</td>\n",
       "      <td>NaN</td>\n",
       "    </tr>\n",
       "  </tbody>\n",
       "</table>\n",
       "</div>"
      ],
      "text/plain": [
       "   fine_amount  state_fee  admin_fee  discount_amount  judgment_amount  \\\n",
       "0        250.0       10.0       20.0              0.0            305.0   \n",
       "1        750.0       10.0       20.0              0.0            855.0   \n",
       "2        250.0        0.0        0.0              0.0              0.0   \n",
       "\n",
       "   late_fee                                     agency_name        lat  \\\n",
       "0      25.0  Buildings, Safety Engineering & Env Department  42.390729   \n",
       "1      75.0  Buildings, Safety Engineering & Env Department  42.326937   \n",
       "2       0.0  Buildings, Safety Engineering & Env Department  42.380516   \n",
       "\n",
       "         lon state violation_code grafitti_status  compliance  \n",
       "0 -83.124268    IL      9-1-36(a)             NaN         0.0  \n",
       "1 -83.135118    MI     61-63.0600             NaN         1.0  \n",
       "2 -83.096069    MI      9-1-36(a)             NaN         NaN  "
      ]
     },
     "execution_count": 74,
     "metadata": {},
     "output_type": "execute_result"
    }
   ],
   "source": [
    "train_featI.head(3)"
   ]
  },
  {
   "cell_type": "code",
   "execution_count": 6,
   "metadata": {
    "collapsed": false
   },
   "outputs": [
    {
     "name": "stdout",
     "output_type": "stream",
     "text": [
      "number of rows in train set that is missig target: 88627\n"
     ]
    }
   ],
   "source": [
    "# drop the rows in train whose target is unknow\n",
    "print('number of rows in train set that is missig target: {}'.format(sum(train_featI.compliance.isnull())))\n",
    "train_featI_prep = train_featI[train_featI.compliance.notnull()]\n",
    "\n",
    "# fillna\n",
    "# check the grafitti status (is it helpful to keep?)"
   ]
  },
  {
   "cell_type": "code",
   "execution_count": 107,
   "metadata": {
    "collapsed": false
   },
   "outputs": [
    {
     "data": {
      "text/html": [
       "<div>\n",
       "<table border=\"1\" class=\"dataframe\">\n",
       "  <thead>\n",
       "    <tr style=\"text-align: right;\">\n",
       "      <th></th>\n",
       "      <th>discount_amount</th>\n",
       "      <th>late_fee</th>\n",
       "      <th>state_fee</th>\n",
       "      <th>judgment_amount</th>\n",
       "      <th>admin_fee</th>\n",
       "      <th>fine_amount</th>\n",
       "      <th>agency_name</th>\n",
       "      <th>lat</th>\n",
       "      <th>lon</th>\n",
       "      <th>state</th>\n",
       "      <th>violation_code</th>\n",
       "      <th>grafitti_status</th>\n",
       "      <th>compliance</th>\n",
       "    </tr>\n",
       "  </thead>\n",
       "  <tbody>\n",
       "    <tr>\n",
       "      <th>87242</th>\n",
       "      <td>3.0</td>\n",
       "      <td>0.0</td>\n",
       "      <td>10.0</td>\n",
       "      <td>55.0</td>\n",
       "      <td>20.0</td>\n",
       "      <td>25.0</td>\n",
       "      <td>Buildings, Safety Engineering &amp; Env Department</td>\n",
       "      <td>42.361820</td>\n",
       "      <td>-83.015057</td>\n",
       "      <td>MI</td>\n",
       "      <td>9-1-201(a)</td>\n",
       "      <td>NaN</td>\n",
       "      <td>1.0</td>\n",
       "    </tr>\n",
       "    <tr>\n",
       "      <th>78484</th>\n",
       "      <td>3.0</td>\n",
       "      <td>0.0</td>\n",
       "      <td>10.0</td>\n",
       "      <td>55.0</td>\n",
       "      <td>20.0</td>\n",
       "      <td>25.0</td>\n",
       "      <td>Buildings, Safety Engineering &amp; Env Department</td>\n",
       "      <td>42.361820</td>\n",
       "      <td>-83.015057</td>\n",
       "      <td>MI</td>\n",
       "      <td>9-1-107</td>\n",
       "      <td>NaN</td>\n",
       "      <td>1.0</td>\n",
       "    </tr>\n",
       "    <tr>\n",
       "      <th>33870</th>\n",
       "      <td>3.0</td>\n",
       "      <td>0.0</td>\n",
       "      <td>10.0</td>\n",
       "      <td>55.0</td>\n",
       "      <td>20.0</td>\n",
       "      <td>25.0</td>\n",
       "      <td>Buildings, Safety Engineering &amp; Env Department</td>\n",
       "      <td>42.391384</td>\n",
       "      <td>-83.184700</td>\n",
       "      <td>MI</td>\n",
       "      <td>9-1-209</td>\n",
       "      <td>NaN</td>\n",
       "      <td>1.0</td>\n",
       "    </tr>\n",
       "  </tbody>\n",
       "</table>\n",
       "</div>"
      ],
      "text/plain": [
       "       discount_amount  late_fee  state_fee  judgment_amount  admin_fee  \\\n",
       "87242              3.0       0.0       10.0             55.0       20.0   \n",
       "78484              3.0       0.0       10.0             55.0       20.0   \n",
       "33870              3.0       0.0       10.0             55.0       20.0   \n",
       "\n",
       "       fine_amount                                     agency_name        lat  \\\n",
       "87242         25.0  Buildings, Safety Engineering & Env Department  42.361820   \n",
       "78484         25.0  Buildings, Safety Engineering & Env Department  42.361820   \n",
       "33870         25.0  Buildings, Safety Engineering & Env Department  42.391384   \n",
       "\n",
       "             lon state violation_code grafitti_status  compliance  \n",
       "87242 -83.015057    MI     9-1-201(a)             NaN         1.0  \n",
       "78484 -83.015057    MI        9-1-107             NaN         1.0  \n",
       "33870 -83.184700    MI        9-1-209             NaN         1.0  "
      ]
     },
     "execution_count": 107,
     "metadata": {},
     "output_type": "execute_result"
    }
   ],
   "source": [
    "# check the discount amount if any is notnull, any variety -- convert to indicator, pct\n",
    "pct = np.round(train_featI_prep.discount_amount / train_featI_prep.fine_amount, 2)\n",
    "train_featI_prep[(pct.notnull()) & (pct==0.12)].sample(3)"
   ]
  },
  {
   "cell_type": "markdown",
   "metadata": {},
   "source": [
    "If there is discount, that will be 10% of the fine amount."
   ]
  },
  {
   "cell_type": "code",
   "execution_count": 24,
   "metadata": {
    "collapsed": false
   },
   "outputs": [
    {
     "data": {
      "text/plain": [
       "0.00    59457\n",
       "0.10      761\n",
       "0.12        1\n",
       "dtype: int64"
      ]
     },
     "execution_count": 24,
     "metadata": {},
     "output_type": "execute_result"
    }
   ],
   "source": [
    "pct = np.round(test_featI.discount_amount / test_featI.fine_amount, 2)\n",
    "pct[pct.notnull()].value_counts()"
   ]
  },
  {
   "cell_type": "markdown",
   "metadata": {},
   "source": [
    "This discount rate also applies in test set. We can change this numerical feature as binary indicator, 1 for discounted, 0 for none-discount."
   ]
  },
  {
   "cell_type": "code",
   "execution_count": 7,
   "metadata": {
    "collapsed": false
   },
   "outputs": [
    {
     "name": "stdout",
     "output_type": "stream",
     "text": [
      "0    151596\n",
      "1      1165\n",
      "Name: discounted, dtype: int64\n",
      "0    60239\n",
      "1      762\n",
      "Name: discounted, dtype: int64\n"
     ]
    },
    {
     "name": "stderr",
     "output_type": "stream",
     "text": [
      "/opt/conda/lib/python3.6/site-packages/ipykernel/__main__.py:2: SettingWithCopyWarning: \n",
      "A value is trying to be set on a copy of a slice from a DataFrame.\n",
      "Try using .loc[row_indexer,col_indexer] = value instead\n",
      "\n",
      "See the caveats in the documentation: http://pandas.pydata.org/pandas-docs/stable/indexing.html#indexing-view-versus-copy\n",
      "  from ipykernel import kernelapp as app\n"
     ]
    }
   ],
   "source": [
    "for dataset in [train_featI_prep, test_featI]:\n",
    "    dataset['discounted'] = (dataset['discount_amount'] > 0).astype(int)\n",
    "    print(dataset['discounted'].value_counts())"
   ]
  },
  {
   "cell_type": "code",
   "execution_count": 33,
   "metadata": {
    "collapsed": false
   },
   "outputs": [
    {
     "name": "stdout",
     "output_type": "stream",
     "text": [
      "Late fee and fine amount samples: \n",
      "\n",
      "        fine_amount  late_fee\n",
      "185880        100.0      10.0\n",
      "65202         250.0      25.0\n",
      "110833        250.0      25.0\n",
      "104328       1000.0     100.0\n",
      "174904        250.0      25.0\n",
      "191041        125.0      12.5\n",
      "69244         200.0      20.0\n",
      "1197          100.0      10.0\n",
      "216973        250.0      25.0\n",
      "217225        500.0      50.0\n",
      "Calculate Pct: \n",
      "0.1    138200\n",
      "0.0     14366\n",
      "dtype: int64\n"
     ]
    }
   ],
   "source": [
    "# check the late fee if all are notnull, any variety -- convert to indicator, pct\n",
    "print('Late fee and fine amount samples: \\n')\n",
    "print(train_featI_prep.loc[train_featI_prep.late_fee >0, ['fine_amount', 'late_fee']].sample(10))\n",
    "\n",
    "print('Calculate Pct: ')\n",
    "\n",
    "pct = np.round(train_featI_prep.late_fee / train_featI_prep.fine_amount, 2)\n",
    "print(pct[pct.notnull()].value_counts())"
   ]
  },
  {
   "cell_type": "markdown",
   "metadata": {},
   "source": [
    "We can handle this late_fee feature the same as discount_amount feature, to transform it into binary indicator, 1 for late, 0 for not late or unknown."
   ]
  },
  {
   "cell_type": "code",
   "execution_count": 8,
   "metadata": {
    "collapsed": false
   },
   "outputs": [
    {
     "name": "stdout",
     "output_type": "stream",
     "text": [
      "1    138200\n",
      "0     14561\n",
      "Name: late, dtype: int64\n",
      "1    52947\n",
      "0     8054\n",
      "Name: late, dtype: int64\n"
     ]
    },
    {
     "name": "stderr",
     "output_type": "stream",
     "text": [
      "/opt/conda/lib/python3.6/site-packages/ipykernel/__main__.py:2: SettingWithCopyWarning: \n",
      "A value is trying to be set on a copy of a slice from a DataFrame.\n",
      "Try using .loc[row_indexer,col_indexer] = value instead\n",
      "\n",
      "See the caveats in the documentation: http://pandas.pydata.org/pandas-docs/stable/indexing.html#indexing-view-versus-copy\n",
      "  from ipykernel import kernelapp as app\n"
     ]
    }
   ],
   "source": [
    "for dataset in [train_featI_prep, test_featI]:\n",
    "    dataset['late'] = (dataset['late_fee'] > 0).astype(int)\n",
    "    print(dataset['late'].value_counts())"
   ]
  },
  {
   "cell_type": "code",
   "execution_count": 38,
   "metadata": {
    "collapsed": false
   },
   "outputs": [
    {
     "name": "stdout",
     "output_type": "stream",
     "text": [
      "NaN    152761\n",
      "Name: grafitti_status, dtype: int64\n"
     ]
    },
    {
     "data": {
      "text/html": [
       "<div>\n",
       "<table border=\"1\" class=\"dataframe\">\n",
       "  <thead>\n",
       "    <tr style=\"text-align: right;\">\n",
       "      <th></th>\n",
       "      <th>discount_amount</th>\n",
       "      <th>late_fee</th>\n",
       "      <th>state_fee</th>\n",
       "      <th>judgment_amount</th>\n",
       "      <th>admin_fee</th>\n",
       "      <th>fine_amount</th>\n",
       "      <th>agency_name</th>\n",
       "      <th>lat</th>\n",
       "      <th>lon</th>\n",
       "      <th>state</th>\n",
       "      <th>violation_code</th>\n",
       "      <th>grafitti_status</th>\n",
       "      <th>compliance</th>\n",
       "      <th>discounted</th>\n",
       "      <th>late</th>\n",
       "    </tr>\n",
       "  </thead>\n",
       "  <tbody>\n",
       "  </tbody>\n",
       "</table>\n",
       "</div>"
      ],
      "text/plain": [
       "Empty DataFrame\n",
       "Columns: [discount_amount, late_fee, state_fee, judgment_amount, admin_fee, fine_amount, agency_name, lat, lon, state, violation_code, grafitti_status, compliance, discounted, late]\n",
       "Index: []"
      ]
     },
     "execution_count": 38,
     "metadata": {},
     "output_type": "execute_result"
    }
   ],
   "source": [
    "# check the grafitti status (is it helpful to keep?)\n",
    "print(train_featI_prep.grafitti_status.value_counts(dropna=False))\n",
    "train_featI_prep[train_featI_prep.grafitti_status.notnull()]"
   ]
  },
  {
   "cell_type": "markdown",
   "metadata": {},
   "source": [
    "This grafiti categorical feature does not contain any information. We will drop it from both train and test set."
   ]
  },
  {
   "cell_type": "code",
   "execution_count": 9,
   "metadata": {
    "collapsed": false
   },
   "outputs": [
    {
     "name": "stdout",
     "output_type": "stream",
     "text": [
      "Index(['judgment_amount', 'discount_amount', 'fine_amount', 'admin_fee',\n",
      "       'late_fee', 'state_fee', 'agency_name', 'lat', 'lon', 'state',\n",
      "       'violation_code', 'compliance', 'discounted', 'late'],\n",
      "      dtype='object')\n"
     ]
    },
    {
     "name": "stderr",
     "output_type": "stream",
     "text": [
      "/opt/conda/lib/python3.6/site-packages/ipykernel/__main__.py:2: SettingWithCopyWarning: \n",
      "A value is trying to be set on a copy of a slice from a DataFrame\n",
      "\n",
      "See the caveats in the documentation: http://pandas.pydata.org/pandas-docs/stable/indexing.html#indexing-view-versus-copy\n",
      "  from ipykernel import kernelapp as app\n"
     ]
    }
   ],
   "source": [
    "for dataset in [train_featI_prep, test_featI]:\n",
    "    dataset.drop(['grafitti_status'], axis=1, inplace = True)\n",
    "print(train_featI_prep.columns)"
   ]
  },
  {
   "cell_type": "code",
   "execution_count": 111,
   "metadata": {
    "collapsed": false
   },
   "outputs": [
    {
     "name": "stdout",
     "output_type": "stream",
     "text": [
      "total violation code in train set: \n",
      " 188\n",
      " total violation code in test set: \n",
      " 151\n",
      " are all the violation code in test set exist in train set? : \n",
      " True\n"
     ]
    }
   ],
   "source": [
    "# check viloation code\n",
    "print(f'total violation code in train set: \\n {train_featI_prep.violation_code.nunique()}\\n',\n",
    "     f'total violation code in test set: \\n {test_featI.violation_code.nunique()}')\n",
    "print(f' are all the violation code in test set exist in train set? : \\n \\\n",
    "{test_featI.violation_code.unique().all() in train_featI_prep.violation_code.unique()}')"
   ]
  },
  {
   "cell_type": "code",
   "execution_count": 53,
   "metadata": {
    "collapsed": false
   },
   "outputs": [
    {
     "name": "stdout",
     "output_type": "stream",
     "text": [
      "['9-1-104']\n",
      "['9-1-81(a)']\n",
      "['9-1-36(a)']\n",
      "['22-2-88']\n",
      "['9-1-36(a)']\n",
      "['22-2-88']\n",
      "['9-1-36(a)']\n",
      "['22-2-88']\n",
      "['9-1-81(a)']\n",
      "['9-1-81(a)']\n",
      "['22-2-88']\n",
      "['22-2-43']\n",
      "['9-1-105']\n",
      "['9-1-103(C)']\n",
      "['9-1-36(a)']\n",
      "['22-2-45']\n",
      "['9-1-36(a)']\n",
      "['9-1-36(a)']\n",
      "['9-1-81(a)']\n",
      "['9-1-104']\n",
      "['9-1-36(a)']\n",
      "['9-1-36(a)']\n",
      "['22-2-88']\n",
      "['9-1-110(a)']\n",
      "['22-2-88(b)']\n",
      "['9-1-105']\n",
      "['9-1-36(a)']\n",
      "['9-1-36(a)']\n",
      "['22-2-83(a)(b)(c)']\n",
      "['9-1-36(a)']\n"
     ]
    }
   ],
   "source": [
    "# what is the pattern of violation code? Fine the main pattern for encoding later.\n",
    "for i in range(30):\n",
    "    print(train_featI_prep.violation_code.sample(1).values)"
   ]
  },
  {
   "cell_type": "markdown",
   "metadata": {},
   "source": [
    "The code is composed by [d+-d+-d+{(w), 3}]. We will extract the first two number, and check the number of variety."
   ]
  },
  {
   "cell_type": "code",
   "execution_count": 60,
   "metadata": {
    "collapsed": false
   },
   "outputs": [
    {
     "data": {
      "text/plain": [
       "0      9-1-36(a)\n",
       "1     61-63.0600\n",
       "5      9-1-36(a)\n",
       "6     61-63.0500\n",
       "7     61-63.0100\n",
       "8     61-63.0100\n",
       "9     61-63.0600\n",
       "12    61-63.0600\n",
       "13    61-63.0600\n",
       "14    61-63.0600\n",
       "18    61-63.0100\n",
       "19    61-63.0100\n",
       "21    61-63.0600\n",
       "22    61-63.0600\n",
       "23    61-63.0600\n",
       "28     9-1-36(a)\n",
       "30     9-1-36(a)\n",
       "31     9-1-36(a)\n",
       "33     9-1-36(a)\n",
       "34     9-1-36(a)\n",
       "Name: violation_code, dtype: object"
      ]
     },
     "execution_count": 60,
     "metadata": {},
     "output_type": "execute_result"
    }
   ],
   "source": [
    "train_featI_prep.violation_code[:20]"
   ]
  },
  {
   "cell_type": "code",
   "execution_count": 13,
   "metadata": {
    "collapsed": false
   },
   "outputs": [
    {
     "data": {
      "text/plain": [
       "9-1       115821\n",
       "22-2       33967\n",
       "61-81        440\n",
       "61-5         359\n",
       "61-63        130\n",
       "61-4         128\n",
       "61-8          99\n",
       "22-3          20\n",
       "61-80         14\n",
       "61-101         7\n",
       "61-82          6\n",
       "61-84          4\n",
       "61-130         4\n",
       "61-86          4\n",
       "61-90          3\n",
       "61-121         3\n",
       "61-83          2\n",
       "61-118         1\n",
       "61-104         1\n",
       "61-47          1\n",
       "61-45          1\n",
       "61-120         1\n",
       "61-114         1\n",
       "61-111         1\n",
       "Name: violation_code, dtype: int64"
      ]
     },
     "execution_count": 13,
     "metadata": {},
     "output_type": "execute_result"
    }
   ],
   "source": [
    "import re\n",
    "\n",
    "def violation_code_extract(code):\n",
    "    try:\n",
    "        result = re.match(r'^(\\d+-\\d+)', code).group()\n",
    "    except:\n",
    "        result = None\n",
    "    return result\n",
    "\n",
    "violation = train_featI_prep.violation_code.apply(violation_code_extract)\n",
    "violation.value_counts()"
   ]
  },
  {
   "cell_type": "code",
   "execution_count": 69,
   "metadata": {
    "collapsed": false
   },
   "outputs": [
    {
     "data": {
      "text/plain": [
       "9-1       36491\n",
       "22-2      23760\n",
       "61-5        597\n",
       "61-81        17\n",
       "61-4         13\n",
       "61-8         12\n",
       "61-85        10\n",
       "61-83         3\n",
       "61-84         3\n",
       "61-112        3\n",
       "61-82         3\n",
       "61-103        3\n",
       "61-101        2\n",
       "61-14         2\n",
       "61-86         1\n",
       "61-100        1\n",
       "61-13         1\n",
       "61-118        1\n",
       "61-130        1\n",
       "61-102        1\n",
       "61-119        1\n",
       "61-104        1\n",
       "Name: violation_code, dtype: int64"
      ]
     },
     "execution_count": 69,
     "metadata": {},
     "output_type": "execute_result"
    }
   ],
   "source": [
    "violation = test_featI.violation_code.apply(violation_code_extract)\n",
    "violation.value_counts()"
   ]
  },
  {
   "cell_type": "markdown",
   "metadata": {},
   "source": [
    "Since code '61-x' has more levels than the other two code, and total number is far smaller than those two codes, we can consider to combine all these 61-x code into 61, so we will end up with three levels for the violation code."
   ]
  },
  {
   "cell_type": "code",
   "execution_count": 14,
   "metadata": {
    "collapsed": false
   },
   "outputs": [
    {
     "name": "stderr",
     "output_type": "stream",
     "text": [
      "/opt/conda/lib/python3.6/site-packages/ipykernel/__main__.py:9: SettingWithCopyWarning: \n",
      "A value is trying to be set on a copy of a slice from a DataFrame.\n",
      "Try using .loc[row_indexer,col_indexer] = value instead\n",
      "\n",
      "See the caveats in the documentation: http://pandas.pydata.org/pandas-docs/stable/indexing.html#indexing-view-versus-copy\n"
     ]
    },
    {
     "name": "stdout",
     "output_type": "stream",
     "text": [
      "                   min        mean  median      max          std   count\n",
      "simplified_code                                                         \n",
      "19420901         360.0  549.375000   580.0    580.0    74.963880      16\n",
      "19450901         330.0  369.950617   360.0   1680.0    79.451470    1620\n",
      "19830901          55.0   82.000000    57.5    140.0    40.031238      10\n",
      "19840901          57.5   57.500000    57.5     57.5     0.000000       2\n",
      "19850901          85.0   85.000000    85.0     85.0          NaN       1\n",
      "20130901          55.0   78.782051    85.0    250.0    26.456726      78\n",
      "20160901          57.5   57.500000    57.5     57.5          NaN       1\n",
      "20180901          55.0   56.833333    57.5     57.5     1.144344      15\n",
      "22                 0.0  956.863115   250.0  11030.0  1428.035426   33987\n",
      "61                 0.0  292.611570   140.0   1680.0   318.240042    1210\n",
      "9                  0.0  271.235118   305.0   3330.0   118.561867  115821\n",
      "                    min         mean  median      max         std  count\n",
      "simplified_code                                                         \n",
      "19410901           85.0   290.833333   345.0    360.0  109.472219      6\n",
      "19420901          530.0   765.000000   580.0   1680.0  377.040130     28\n",
      "19450901          360.0   602.857143   580.0   1230.0  293.865859      7\n",
      "19830901         1130.0  1130.000000  1130.0   1130.0    0.000000      2\n",
      "19910901          580.0   580.000000   580.0    580.0    0.000000      3\n",
      "20130901           57.5   111.851852    85.0    580.0  121.518028     27\n",
      "20180901           85.0    85.000000    85.0     85.0         NaN      1\n",
      "22                  0.0   472.882407   250.0  11030.0  520.476610  23760\n",
      "61                  0.0   409.027367   250.0   1680.0  335.481753    676\n",
      "9                   0.0   265.142019   140.0  15558.8  397.373307  36491\n"
     ]
    }
   ],
   "source": [
    "for dataset in [train_featI_prep, test_featI]:\n",
    "    dataset['simplified_code'] = dataset['violation_code'].apply(lambda code: code.split('-')[0] if '-' in code else code)\n",
    "    print(dataset.groupby('simplified_code')['judgment_amount'].agg(['min', 'mean', 'median', 'max', 'std', 'count']))"
   ]
  },
  {
   "cell_type": "code",
   "execution_count": 15,
   "metadata": {
    "collapsed": false
   },
   "outputs": [
    {
     "name": "stdout",
     "output_type": "stream",
     "text": [
      "                  min        mean  median      max          std   count\n",
      "simplified_code                                                        \n",
      "0                55.0  353.519793   360.0   1680.0   106.353270    1743\n",
      "22                0.0  956.863115   250.0  11030.0  1428.035426   33987\n",
      "61                0.0  292.611570   140.0   1680.0   318.240042    1210\n",
      "9                 0.0  271.235118   305.0   3330.0   118.561867  115821\n",
      "                  min        mean  median      max         std  count\n",
      "simplified_code                                                      \n",
      "0                57.5  466.081081   530.0   1680.0  406.640741     74\n",
      "22                0.0  472.882407   250.0  11030.0  520.476610  23760\n",
      "61                0.0  409.027367   250.0   1680.0  335.481753    676\n",
      "9                 0.0  265.142019   140.0  15558.8  397.373307  36491\n"
     ]
    },
    {
     "name": "stderr",
     "output_type": "stream",
     "text": [
      "/opt/conda/lib/python3.6/site-packages/ipykernel/__main__.py:2: SettingWithCopyWarning: \n",
      "A value is trying to be set on a copy of a slice from a DataFrame.\n",
      "Try using .loc[row_indexer,col_indexer] = value instead\n",
      "\n",
      "See the caveats in the documentation: http://pandas.pydata.org/pandas-docs/stable/indexing.html#indexing-view-versus-copy\n",
      "  from ipykernel import kernelapp as app\n"
     ]
    }
   ],
   "source": [
    "for dataset in [train_featI_prep, test_featI]:\n",
    "    dataset['simplified_code'] = dataset['simplified_code'].apply(lambda x: x if x in ['9', '22', '61'] else '0')\n",
    "    print(dataset.groupby('simplified_code')['judgment_amount'].agg(['min', 'mean', 'median', 'max', 'std', 'count']))"
   ]
  },
  {
   "cell_type": "code",
   "execution_count": 116,
   "metadata": {
    "collapsed": false
   },
   "outputs": [
    {
     "data": {
      "text/plain": [
       "Index(['discount_amount', 'late_fee', 'state_fee', 'judgment_amount',\n",
       "       'admin_fee', 'fine_amount', 'agency_name', 'lat', 'lon', 'state',\n",
       "       'violation_code', 'compliance', 'discounted', 'late',\n",
       "       'simplified_code'],\n",
       "      dtype='object')"
      ]
     },
     "execution_count": 116,
     "metadata": {},
     "output_type": "execute_result"
    }
   ],
   "source": [
    "train_featI_prep.columns"
   ]
  },
  {
   "cell_type": "code",
   "execution_count": 16,
   "metadata": {
    "collapsed": false
   },
   "outputs": [
    {
     "name": "stdout",
     "output_type": "stream",
     "text": [
      "shape of training: (152761, 8)\n",
      "\n",
      "shape of testing: (61001, 7)\n"
     ]
    }
   ],
   "source": [
    "featII = ['judgment_amount', 'agency_name', 'lat', 'lon', 'discounted', 'late', 'simplified_code']\n",
    "train_featII = train_featI_prep[featII+[target]]\n",
    "test_featII = test_featI[featII]\n",
    "\n",
    "print('shape of training: {}'.format(train_featII.shape))\n",
    "print('\\nshape of testing: {}'.format(test_featII.shape))"
   ]
  },
  {
   "cell_type": "code",
   "execution_count": 17,
   "metadata": {
    "collapsed": false
   },
   "outputs": [
    {
     "name": "stdout",
     "output_type": "stream",
     "text": [
      "number of missing values in training set: \n",
      "judgment_amount    0\n",
      "agency_name        0\n",
      "lat                2\n",
      "lon                2\n",
      "discounted         0\n",
      "late               0\n",
      "simplified_code    0\n",
      "compliance         0\n",
      "dtype: int64\n",
      "\n",
      "number of missing values in test set: \n",
      "judgment_amount    0\n",
      "agency_name        0\n",
      "lat                5\n",
      "lon                5\n",
      "discounted         0\n",
      "late               0\n",
      "simplified_code    0\n",
      "dtype: int64\n"
     ]
    },
    {
     "name": "stderr",
     "output_type": "stream",
     "text": [
      "/opt/conda/lib/python3.6/site-packages/pandas/core/indexing.py:477: SettingWithCopyWarning: \n",
      "A value is trying to be set on a copy of a slice from a DataFrame.\n",
      "Try using .loc[row_indexer,col_indexer] = value instead\n",
      "\n",
      "See the caveats in the documentation: http://pandas.pydata.org/pandas-docs/stable/indexing.html#indexing-view-versus-copy\n",
      "  self.obj[item] = s\n"
     ]
    },
    {
     "name": "stdout",
     "output_type": "stream",
     "text": [
      "\n",
      "Any na left? \n",
      "False\n"
     ]
    }
   ],
   "source": [
    "# fillna\n",
    "print('number of missing values in training set: \\n{}'\n",
    "      .format(train_featII.isnull().sum(axis=0)))\n",
    "\n",
    "print('\\nnumber of missing values in test set: \\n{}'\n",
    "      .format(test_featII.isnull().sum(axis=0)))\n",
    "\n",
    "for dataset in [train_featII, test_featII]:\n",
    "    dataset.loc[dataset.lat.isnull(), 'lat'] = dataset['lat'].mean()\n",
    "    dataset.loc[dataset.lon.isnull(), 'lon'] = dataset['lon'].mean()\n",
    "    \n",
    "print('\\nAny na left? \\n{}'.format(train_featII.isnull().sum().any() * test_featII.isnull().sum().any()))"
   ]
  },
  {
   "cell_type": "code",
   "execution_count": 25,
   "metadata": {
    "collapsed": false
   },
   "outputs": [
    {
     "name": "stderr",
     "output_type": "stream",
     "text": [
      "/opt/conda/lib/python3.6/site-packages/ipykernel/__main__.py:11: SettingWithCopyWarning: \n",
      "A value is trying to be set on a copy of a slice from a DataFrame.\n",
      "Try using .loc[row_indexer,col_indexer] = value instead\n",
      "\n",
      "See the caveats in the documentation: http://pandas.pydata.org/pandas-docs/stable/indexing.html#indexing-view-versus-copy\n",
      "/opt/conda/lib/python3.6/site-packages/ipykernel/__main__.py:12: SettingWithCopyWarning: \n",
      "A value is trying to be set on a copy of a slice from a DataFrame.\n",
      "Try using .loc[row_indexer,col_indexer] = value instead\n",
      "\n",
      "See the caveats in the documentation: http://pandas.pydata.org/pandas-docs/stable/indexing.html#indexing-view-versus-copy\n",
      "/opt/conda/lib/python3.6/site-packages/ipykernel/__main__.py:15: SettingWithCopyWarning: \n",
      "A value is trying to be set on a copy of a slice from a DataFrame.\n",
      "Try using .loc[row_indexer,col_indexer] = value instead\n",
      "\n",
      "See the caveats in the documentation: http://pandas.pydata.org/pandas-docs/stable/indexing.html#indexing-view-versus-copy\n",
      "/opt/conda/lib/python3.6/site-packages/ipykernel/__main__.py:16: SettingWithCopyWarning: \n",
      "A value is trying to be set on a copy of a slice from a DataFrame.\n",
      "Try using .loc[row_indexer,col_indexer] = value instead\n",
      "\n",
      "See the caveats in the documentation: http://pandas.pydata.org/pandas-docs/stable/indexing.html#indexing-view-versus-copy\n"
     ]
    }
   ],
   "source": [
    "#encode categorical data\n",
    "from sklearn.model_selection import train_test_split\n",
    "from sklearn.preprocessing import LabelEncoder\n",
    "\n",
    "X, y = train_featII.drop([target], axis=1), train_featII[target]\n",
    "\n",
    "X_train, X_test, y_train, y_test = train_test_split(X, y, test_size=0.3, \\\n",
    "                                                   stratify=y, random_state=35)\n",
    "\n",
    "lbe_agency = LabelEncoder().fit(X_train['agency_name'].append(X_test['agency_name']))\n",
    "X_train['agency_name'] = lbe_agency.transform(X_train['agency_name'])\n",
    "X_test['agency_name'] = lbe_agency.transform(X_test['agency_name'])\n",
    "\n",
    "lbe_violation = LabelEncoder().fit(X_train['simplified_code'].append(X_test['simplified_code']))\n",
    "X_train['simplified_code'] = lbe_violation.transform(X_train['simplified_code'])\n",
    "X_test['simplified_code'] = lbe_violation.transform(X_test['simplified_code'])"
   ]
  },
  {
   "cell_type": "code",
   "execution_count": 28,
   "metadata": {
    "collapsed": false
   },
   "outputs": [
    {
     "data": {
      "text/html": [
       "<div>\n",
       "<table border=\"1\" class=\"dataframe\">\n",
       "  <thead>\n",
       "    <tr style=\"text-align: right;\">\n",
       "      <th></th>\n",
       "      <th>judgment_amount</th>\n",
       "      <th>agency_name</th>\n",
       "      <th>lat</th>\n",
       "      <th>lon</th>\n",
       "      <th>discounted</th>\n",
       "      <th>late</th>\n",
       "      <th>simplified_code</th>\n",
       "    </tr>\n",
       "  </thead>\n",
       "  <tbody>\n",
       "    <tr>\n",
       "      <th>208405</th>\n",
       "      <td>280.0</td>\n",
       "      <td>0</td>\n",
       "      <td>42.432434</td>\n",
       "      <td>-83.089062</td>\n",
       "      <td>0</td>\n",
       "      <td>0</td>\n",
       "      <td>3</td>\n",
       "    </tr>\n",
       "    <tr>\n",
       "      <th>170303</th>\n",
       "      <td>3880.0</td>\n",
       "      <td>1</td>\n",
       "      <td>42.417696</td>\n",
       "      <td>-83.149030</td>\n",
       "      <td>0</td>\n",
       "      <td>1</td>\n",
       "      <td>1</td>\n",
       "    </tr>\n",
       "    <tr>\n",
       "      <th>52711</th>\n",
       "      <td>305.0</td>\n",
       "      <td>0</td>\n",
       "      <td>42.337391</td>\n",
       "      <td>-83.228810</td>\n",
       "      <td>0</td>\n",
       "      <td>1</td>\n",
       "      <td>3</td>\n",
       "    </tr>\n",
       "  </tbody>\n",
       "</table>\n",
       "</div>"
      ],
      "text/plain": [
       "        judgment_amount  agency_name        lat        lon  discounted  late  \\\n",
       "208405            280.0            0  42.432434 -83.089062           0     0   \n",
       "170303           3880.0            1  42.417696 -83.149030           0     1   \n",
       "52711             305.0            0  42.337391 -83.228810           0     1   \n",
       "\n",
       "        simplified_code  \n",
       "208405                3  \n",
       "170303                1  \n",
       "52711                 3  "
      ]
     },
     "execution_count": 28,
     "metadata": {},
     "output_type": "execute_result"
    }
   ],
   "source": [
    "X_train.head(3)"
   ]
  },
  {
   "cell_type": "code",
   "execution_count": 37,
   "metadata": {
    "collapsed": false
   },
   "outputs": [],
   "source": [
    "from sklearn.preprocessing import OneHotEncoder\n",
    "\n",
    "cat_mask = [col in ['agency_name', 'simplified_code'] for col in X_train.columns]\n",
    "ohe = OneHotEncoder(categorical_features = cat_mask, sparse=False) \n",
    "ohe.fit(X_train) # It returns an numpy array\n",
    "\n",
    "X_train_ohe = ohe.transform(X_train) # It returns an numpy array\n",
    "X_test_ohe = ohe.transform(X_test) # It returns an numpy array"
   ]
  },
  {
   "cell_type": "code",
   "execution_count": null,
   "metadata": {
    "collapsed": false
   },
   "outputs": [
    {
     "name": "stdout",
     "output_type": "stream",
     "text": [
      "Grid best parameter (max. AUC):  {'max_depth': 30, 'n_estimators': 100}\n",
      "Grid best score (AUC):  0.781415827532\n"
     ]
    }
   ],
   "source": [
    "from sklearn.ensemble import RandomForestRegressor\n",
    "from sklearn.metrics import roc_auc_score\n",
    "from sklearn.model_selection import GridSearchCV\n",
    "\n",
    "regr_rf = RandomForestRegressor()\n",
    "grid_values = {'n_estimators': [10, 100], 'max_depth': [None, 30]}\n",
    "grid_clf_auc = GridSearchCV(regr_rf, param_grid=grid_values, scoring='roc_auc')\n",
    "grid_clf_auc.fit(X_train, y_train)\n",
    "print('Grid best parameter (max. AUC): ', grid_clf_auc.best_params_)\n",
    "print('Grid best score (AUC): ', grid_clf_auc.best_score_)"
   ]
  },
  {
   "cell_type": "code",
   "execution_count": null,
   "metadata": {
    "collapsed": true
   },
   "outputs": [],
   "source": []
  }
 ],
 "metadata": {
  "coursera": {
   "course_slug": "python-machine-learning",
   "graded_item_id": "nNS8l",
   "launcher_item_id": "yWWk7",
   "part_id": "w8BSS"
  },
  "kernelspec": {
   "display_name": "Python 3",
   "language": "python",
   "name": "python3"
  },
  "language_info": {
   "codemirror_mode": {
    "name": "ipython",
    "version": 3
   },
   "file_extension": ".py",
   "mimetype": "text/x-python",
   "name": "python",
   "nbconvert_exporter": "python",
   "pygments_lexer": "ipython3",
   "version": "3.6.2"
  }
 },
 "nbformat": 4,
 "nbformat_minor": 2
}
